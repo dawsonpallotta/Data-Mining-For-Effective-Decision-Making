{
 "cells": [
  {
   "cell_type": "code",
   "execution_count": 1,
   "metadata": {},
   "outputs": [],
   "source": [
    "import pandas as pd\n",
    "import numpy as np\n",
    "import matplotlib.pyplot as plt\n",
    "from sklearn.cluster import KMeans\n",
    "from sklearn.cluster import DBSCAN\n",
    "from sklearn.cluster import AgglomerativeClustering\n",
    "#https://scikit-learn.org/stable/modules/generated/sklearn.cluster.KMeans.html#sklearn.cluster.KMeans"
   ]
  },
  {
   "cell_type": "code",
   "execution_count": 2,
   "metadata": {},
   "outputs": [
    {
     "name": "stdout",
     "output_type": "stream",
     "text": [
      "(369, 607)\n",
      "['id', 'inCalls', 'outCalls', 'allCalls', 'inText', 'outText', 'allText', 'allLogs', 'phq9_x', 'gad7_x', 'appVersion', 'PHQ - Q1', 'PHQ - Q2', 'PHQ - Q3', 'PHQ - Q4', 'PHQ - Q5', 'PHQ - Q6', 'PHQ - Q7', 'PHQ - Q8', 'PHQ - Q9', 'PHQ - Total', 'GAD - Q1', 'GAD - Q2', 'GAD - Q3', 'GAD - Q4', 'GAD - Q5', 'GAD - Q6', 'GAD - Q7', 'GAD - Total', 'Gender', 'Age', 'StudentStatus', 'PriorDepressionTreatment', 'Remote', 'COVID', 'Group', 'Timestamp', 'inTexts0_Absolute energy', 'inTexts0_Area under the curve', 'inTexts0_Autocorrelation', 'inTexts0_Centroid', 'inTexts0_ECDF Percentile Count_0', 'inTexts0_ECDF Percentile Count_1', 'inTexts0_ECDF Percentile_0', 'inTexts0_ECDF Percentile_1', 'inTexts0_ECDF_0', 'inTexts0_ECDF_1', 'inTexts0_ECDF_2', 'inTexts0_ECDF_3', 'inTexts0_ECDF_4', 'inTexts0_ECDF_5', 'inTexts0_ECDF_6', 'inTexts0_ECDF_7', 'inTexts0_ECDF_8', 'inTexts0_ECDF_9', 'inTexts0_Entropy', 'inTexts0_FFT mean coefficient_0', 'inTexts0_FFT mean coefficient_1', 'inTexts0_FFT mean coefficient_2', 'inTexts0_FFT mean coefficient_3', 'inTexts0_FFT mean coefficient_4', 'inTexts0_FFT mean coefficient_5', 'inTexts0_FFT mean coefficient_6', 'inTexts0_FFT mean coefficient_7', 'inTexts0_Fundamental frequency', 'inTexts0_Histogram_0', 'inTexts0_Histogram_1', 'inTexts0_Histogram_2', 'inTexts0_Histogram_3', 'inTexts0_Histogram_4', 'inTexts0_Histogram_5', 'inTexts0_Histogram_6', 'inTexts0_Histogram_7', 'inTexts0_Histogram_8', 'inTexts0_Histogram_9', 'inTexts0_Human range energy', 'inTexts0_Interquartile range', 'inTexts0_Kurtosis', 'inTexts0_LPCC_0', 'inTexts0_LPCC_1', 'inTexts0_LPCC_10', 'inTexts0_LPCC_11', 'inTexts0_LPCC_12', 'inTexts0_LPCC_2', 'inTexts0_LPCC_3', 'inTexts0_LPCC_4', 'inTexts0_LPCC_5', 'inTexts0_LPCC_6', 'inTexts0_LPCC_7', 'inTexts0_LPCC_8', 'inTexts0_LPCC_9', 'inTexts0_MFCC_0', 'inTexts0_MFCC_1', 'inTexts0_MFCC_10', 'inTexts0_MFCC_11', 'inTexts0_MFCC_2', 'inTexts0_MFCC_3', 'inTexts0_MFCC_4', 'inTexts0_MFCC_5', 'inTexts0_MFCC_6', 'inTexts0_MFCC_7', 'inTexts0_MFCC_8', 'inTexts0_MFCC_9', 'inTexts0_Max', 'inTexts0_Max power spectrum', 'inTexts0_Maximum frequency', 'inTexts0_Mean', 'inTexts0_Mean absolute deviation', 'inTexts0_Mean absolute diff', 'inTexts0_Mean diff', 'inTexts0_Median', 'inTexts0_Median absolute deviation', 'inTexts0_Median absolute diff', 'inTexts0_Median diff', 'inTexts0_Median frequency', 'inTexts0_Min', 'inTexts0_Negative turning points', 'inTexts0_Neighbourhood peaks', 'inTexts0_Peak to peak distance', 'inTexts0_Positive turning points', 'inTexts0_Power bandwidth', 'inTexts0_Root mean square', 'inTexts0_Signal distance', 'inTexts0_Skewness', 'inTexts0_Slope', 'inTexts0_Spectral centroid', 'inTexts0_Spectral decrease', 'inTexts0_Spectral distance', 'inTexts0_Spectral entropy', 'inTexts0_Spectral kurtosis', 'inTexts0_Spectral positive turning points', 'inTexts0_Spectral roll-off', 'inTexts0_Spectral roll-on', 'inTexts0_Spectral skewness', 'inTexts0_Spectral slope', 'inTexts0_Spectral spread', 'inTexts0_Spectral variation', 'inTexts0_Standard deviation', 'inTexts0_Sum absolute diff', 'inTexts0_Total energy', 'inTexts0_Variance', 'inTexts0_Wavelet absolute mean_0', 'inTexts0_Wavelet absolute mean_1', 'inTexts0_Wavelet absolute mean_2', 'inTexts0_Wavelet absolute mean_3', 'inTexts0_Wavelet absolute mean_4', 'inTexts0_Wavelet absolute mean_5', 'inTexts0_Wavelet absolute mean_6', 'inTexts0_Wavelet absolute mean_7', 'inTexts0_Wavelet absolute mean_8', 'inTexts0_Wavelet energy_0', 'inTexts0_Wavelet energy_1', 'inTexts0_Wavelet energy_2', 'inTexts0_Wavelet energy_3', 'inTexts0_Wavelet energy_4', 'inTexts0_Wavelet energy_5', 'inTexts0_Wavelet energy_6', 'inTexts0_Wavelet energy_7', 'inTexts0_Wavelet energy_8', 'inTexts0_Wavelet entropy', 'inTexts0_Wavelet standard deviation_0', 'inTexts0_Wavelet standard deviation_1', 'inTexts0_Wavelet standard deviation_2', 'inTexts0_Wavelet standard deviation_3', 'inTexts0_Wavelet standard deviation_4', 'inTexts0_Wavelet standard deviation_5', 'inTexts0_Wavelet standard deviation_6', 'inTexts0_Wavelet standard deviation_7', 'inTexts0_Wavelet standard deviation_8', 'inTexts0_Wavelet variance_0', 'inTexts0_Wavelet variance_1', 'inTexts0_Wavelet variance_2', 'inTexts0_Wavelet variance_3', 'inTexts0_Wavelet variance_4', 'inTexts0_Wavelet variance_5', 'inTexts0_Wavelet variance_6', 'inTexts0_Wavelet variance_7', 'inTexts0_Wavelet variance_8', 'inTexts0_Zero crossing rate', 'outTexts0_Absolute energy', 'outTexts0_Area under the curve', 'outTexts0_Autocorrelation', 'outTexts0_Centroid', 'outTexts0_ECDF Percentile Count_0', 'outTexts0_ECDF Percentile Count_1', 'outTexts0_ECDF Percentile_0', 'outTexts0_ECDF Percentile_1', 'outTexts0_ECDF_0', 'outTexts0_ECDF_1', 'outTexts0_ECDF_2', 'outTexts0_ECDF_3', 'outTexts0_ECDF_4', 'outTexts0_ECDF_5', 'outTexts0_ECDF_6', 'outTexts0_ECDF_7', 'outTexts0_ECDF_8', 'outTexts0_ECDF_9', 'outTexts0_Entropy', 'outTexts0_FFT mean coefficient_0', 'outTexts0_FFT mean coefficient_1', 'outTexts0_FFT mean coefficient_2', 'outTexts0_FFT mean coefficient_3', 'outTexts0_FFT mean coefficient_4', 'outTexts0_FFT mean coefficient_5', 'outTexts0_FFT mean coefficient_6', 'outTexts0_FFT mean coefficient_7', 'outTexts0_Fundamental frequency', 'outTexts0_Histogram_0', 'outTexts0_Histogram_1', 'outTexts0_Histogram_2', 'outTexts0_Histogram_3', 'outTexts0_Histogram_4', 'outTexts0_Histogram_5', 'outTexts0_Histogram_6', 'outTexts0_Histogram_7', 'outTexts0_Histogram_8', 'outTexts0_Histogram_9', 'outTexts0_Human range energy', 'outTexts0_Interquartile range', 'outTexts0_Kurtosis', 'outTexts0_LPCC_0', 'outTexts0_LPCC_1', 'outTexts0_LPCC_10', 'outTexts0_LPCC_11', 'outTexts0_LPCC_12', 'outTexts0_LPCC_2', 'outTexts0_LPCC_3', 'outTexts0_LPCC_4', 'outTexts0_LPCC_5', 'outTexts0_LPCC_6', 'outTexts0_LPCC_7', 'outTexts0_LPCC_8', 'outTexts0_LPCC_9', 'outTexts0_MFCC_0', 'outTexts0_MFCC_1', 'outTexts0_MFCC_10', 'outTexts0_MFCC_11', 'outTexts0_MFCC_2', 'outTexts0_MFCC_3', 'outTexts0_MFCC_4', 'outTexts0_MFCC_5', 'outTexts0_MFCC_6', 'outTexts0_MFCC_7', 'outTexts0_MFCC_8', 'outTexts0_MFCC_9', 'outTexts0_Max', 'outTexts0_Max power spectrum', 'outTexts0_Maximum frequency', 'outTexts0_Mean', 'outTexts0_Mean absolute deviation', 'outTexts0_Mean absolute diff', 'outTexts0_Mean diff', 'outTexts0_Median', 'outTexts0_Median absolute deviation', 'outTexts0_Median absolute diff', 'outTexts0_Median diff', 'outTexts0_Median frequency', 'outTexts0_Min', 'outTexts0_Negative turning points', 'outTexts0_Neighbourhood peaks', 'outTexts0_Peak to peak distance', 'outTexts0_Positive turning points', 'outTexts0_Power bandwidth', 'outTexts0_Root mean square', 'outTexts0_Signal distance', 'outTexts0_Skewness', 'outTexts0_Slope', 'outTexts0_Spectral centroid', 'outTexts0_Spectral decrease', 'outTexts0_Spectral distance', 'outTexts0_Spectral entropy', 'outTexts0_Spectral kurtosis', 'outTexts0_Spectral positive turning points', 'outTexts0_Spectral roll-off', 'outTexts0_Spectral roll-on', 'outTexts0_Spectral skewness', 'outTexts0_Spectral slope', 'outTexts0_Spectral spread', 'outTexts0_Spectral variation', 'outTexts0_Standard deviation', 'outTexts0_Sum absolute diff', 'outTexts0_Total energy', 'outTexts0_Variance', 'outTexts0_Wavelet absolute mean_0', 'outTexts0_Wavelet absolute mean_1', 'outTexts0_Wavelet absolute mean_2', 'outTexts0_Wavelet absolute mean_3', 'outTexts0_Wavelet absolute mean_4', 'outTexts0_Wavelet absolute mean_5', 'outTexts0_Wavelet absolute mean_6', 'outTexts0_Wavelet absolute mean_7', 'outTexts0_Wavelet absolute mean_8', 'outTexts0_Wavelet energy_0', 'outTexts0_Wavelet energy_1', 'outTexts0_Wavelet energy_2', 'outTexts0_Wavelet energy_3', 'outTexts0_Wavelet energy_4', 'outTexts0_Wavelet energy_5', 'outTexts0_Wavelet energy_6', 'outTexts0_Wavelet energy_7', 'outTexts0_Wavelet energy_8', 'outTexts0_Wavelet entropy', 'outTexts0_Wavelet standard deviation_0', 'outTexts0_Wavelet standard deviation_1', 'outTexts0_Wavelet standard deviation_2', 'outTexts0_Wavelet standard deviation_3', 'outTexts0_Wavelet standard deviation_4', 'outTexts0_Wavelet standard deviation_5', 'outTexts0_Wavelet standard deviation_6', 'outTexts0_Wavelet standard deviation_7', 'outTexts0_Wavelet standard deviation_8', 'outTexts0_Wavelet variance_0', 'outTexts0_Wavelet variance_1', 'outTexts0_Wavelet variance_2', 'outTexts0_Wavelet variance_3', 'outTexts0_Wavelet variance_4', 'outTexts0_Wavelet variance_5', 'outTexts0_Wavelet variance_6', 'outTexts0_Wavelet variance_7', 'outTexts0_Wavelet variance_8', 'outTexts0_Zero crossing rate', 'inCalls0_Absolute energy', 'inCalls0_Area under the curve', 'inCalls0_Autocorrelation', 'inCalls0_Centroid', 'inCalls0_ECDF Percentile Count_0', 'inCalls0_ECDF Percentile Count_1', 'inCalls0_ECDF Percentile_0', 'inCalls0_ECDF Percentile_1', 'inCalls0_ECDF_0', 'inCalls0_ECDF_1', 'inCalls0_ECDF_2', 'inCalls0_ECDF_3', 'inCalls0_ECDF_4', 'inCalls0_ECDF_5', 'inCalls0_ECDF_6', 'inCalls0_ECDF_7', 'inCalls0_ECDF_8', 'inCalls0_ECDF_9', 'inCalls0_Entropy', 'inCalls0_FFT mean coefficient_0', 'inCalls0_FFT mean coefficient_1', 'inCalls0_FFT mean coefficient_2', 'inCalls0_FFT mean coefficient_3', 'inCalls0_FFT mean coefficient_4', 'inCalls0_FFT mean coefficient_5', 'inCalls0_FFT mean coefficient_6', 'inCalls0_FFT mean coefficient_7', 'inCalls0_Fundamental frequency', 'inCalls0_Histogram_0', 'inCalls0_Histogram_1', 'inCalls0_Histogram_2', 'inCalls0_Histogram_3', 'inCalls0_Histogram_4', 'inCalls0_Histogram_5', 'inCalls0_Histogram_6', 'inCalls0_Histogram_7', 'inCalls0_Histogram_8', 'inCalls0_Histogram_9', 'inCalls0_Human range energy', 'inCalls0_Interquartile range', 'inCalls0_Kurtosis', 'inCalls0_LPCC_0', 'inCalls0_LPCC_1', 'inCalls0_LPCC_10', 'inCalls0_LPCC_11', 'inCalls0_LPCC_12', 'inCalls0_LPCC_2', 'inCalls0_LPCC_3', 'inCalls0_LPCC_4', 'inCalls0_LPCC_5', 'inCalls0_LPCC_6', 'inCalls0_LPCC_7', 'inCalls0_LPCC_8', 'inCalls0_LPCC_9', 'inCalls0_MFCC_0', 'inCalls0_MFCC_1', 'inCalls0_MFCC_10', 'inCalls0_MFCC_11', 'inCalls0_MFCC_2', 'inCalls0_MFCC_3', 'inCalls0_MFCC_4', 'inCalls0_MFCC_5', 'inCalls0_MFCC_6', 'inCalls0_MFCC_7', 'inCalls0_MFCC_8', 'inCalls0_MFCC_9', 'inCalls0_Max', 'inCalls0_Max power spectrum', 'inCalls0_Maximum frequency', 'inCalls0_Mean', 'inCalls0_Mean absolute deviation', 'inCalls0_Mean absolute diff', 'inCalls0_Mean diff', 'inCalls0_Median', 'inCalls0_Median absolute deviation', 'inCalls0_Median absolute diff', 'inCalls0_Median diff', 'inCalls0_Median frequency', 'inCalls0_Min', 'inCalls0_Negative turning points', 'inCalls0_Neighbourhood peaks', 'inCalls0_Peak to peak distance', 'inCalls0_Positive turning points', 'inCalls0_Power bandwidth', 'inCalls0_Root mean square', 'inCalls0_Signal distance', 'inCalls0_Skewness', 'inCalls0_Slope', 'inCalls0_Spectral centroid', 'inCalls0_Spectral decrease', 'inCalls0_Spectral distance', 'inCalls0_Spectral entropy', 'inCalls0_Spectral kurtosis', 'inCalls0_Spectral positive turning points', 'inCalls0_Spectral roll-off', 'inCalls0_Spectral roll-on', 'inCalls0_Spectral skewness', 'inCalls0_Spectral slope', 'inCalls0_Spectral spread', 'inCalls0_Spectral variation', 'inCalls0_Standard deviation', 'inCalls0_Sum absolute diff', 'inCalls0_Total energy', 'inCalls0_Variance', 'inCalls0_Wavelet absolute mean_0', 'inCalls0_Wavelet absolute mean_1', 'inCalls0_Wavelet absolute mean_2', 'inCalls0_Wavelet absolute mean_3', 'inCalls0_Wavelet absolute mean_4', 'inCalls0_Wavelet absolute mean_5', 'inCalls0_Wavelet absolute mean_6', 'inCalls0_Wavelet absolute mean_7', 'inCalls0_Wavelet absolute mean_8', 'inCalls0_Wavelet energy_0', 'inCalls0_Wavelet energy_1', 'inCalls0_Wavelet energy_2', 'inCalls0_Wavelet energy_3', 'inCalls0_Wavelet energy_4', 'inCalls0_Wavelet energy_5', 'inCalls0_Wavelet energy_6', 'inCalls0_Wavelet energy_7', 'inCalls0_Wavelet energy_8', 'inCalls0_Wavelet entropy', 'inCalls0_Wavelet standard deviation_0', 'inCalls0_Wavelet standard deviation_1', 'inCalls0_Wavelet standard deviation_2', 'inCalls0_Wavelet standard deviation_3', 'inCalls0_Wavelet standard deviation_4', 'inCalls0_Wavelet standard deviation_5', 'inCalls0_Wavelet standard deviation_6', 'inCalls0_Wavelet standard deviation_7', 'inCalls0_Wavelet standard deviation_8', 'inCalls0_Wavelet variance_0', 'inCalls0_Wavelet variance_1', 'inCalls0_Wavelet variance_2', 'inCalls0_Wavelet variance_3', 'inCalls0_Wavelet variance_4', 'inCalls0_Wavelet variance_5', 'inCalls0_Wavelet variance_6', 'inCalls0_Wavelet variance_7', 'inCalls0_Wavelet variance_8', 'inCalls0_Zero crossing rate', 'outCalls0_Absolute energy', 'outCalls0_Area under the curve', 'outCalls0_Autocorrelation', 'outCalls0_Centroid', 'outCalls0_ECDF Percentile Count_0', 'outCalls0_ECDF Percentile Count_1', 'outCalls0_ECDF Percentile_0', 'outCalls0_ECDF Percentile_1', 'outCalls0_ECDF_0', 'outCalls0_ECDF_1', 'outCalls0_ECDF_2', 'outCalls0_ECDF_3', 'outCalls0_ECDF_4', 'outCalls0_ECDF_5', 'outCalls0_ECDF_6', 'outCalls0_ECDF_7', 'outCalls0_ECDF_8', 'outCalls0_ECDF_9', 'outCalls0_Entropy', 'outCalls0_FFT mean coefficient_0', 'outCalls0_FFT mean coefficient_1', 'outCalls0_FFT mean coefficient_2', 'outCalls0_FFT mean coefficient_3', 'outCalls0_FFT mean coefficient_4', 'outCalls0_FFT mean coefficient_5', 'outCalls0_FFT mean coefficient_6', 'outCalls0_FFT mean coefficient_7', 'outCalls0_Fundamental frequency', 'outCalls0_Histogram_0', 'outCalls0_Histogram_1', 'outCalls0_Histogram_2', 'outCalls0_Histogram_3', 'outCalls0_Histogram_4', 'outCalls0_Histogram_5', 'outCalls0_Histogram_6', 'outCalls0_Histogram_7', 'outCalls0_Histogram_8', 'outCalls0_Histogram_9', 'outCalls0_Human range energy', 'outCalls0_Interquartile range', 'outCalls0_Kurtosis', 'outCalls0_LPCC_0', 'outCalls0_LPCC_1', 'outCalls0_LPCC_10', 'outCalls0_LPCC_11', 'outCalls0_LPCC_12', 'outCalls0_LPCC_2', 'outCalls0_LPCC_3', 'outCalls0_LPCC_4', 'outCalls0_LPCC_5', 'outCalls0_LPCC_6', 'outCalls0_LPCC_7', 'outCalls0_LPCC_8', 'outCalls0_LPCC_9', 'outCalls0_MFCC_0', 'outCalls0_MFCC_1', 'outCalls0_MFCC_10', 'outCalls0_MFCC_11', 'outCalls0_MFCC_2', 'outCalls0_MFCC_3', 'outCalls0_MFCC_4', 'outCalls0_MFCC_5', 'outCalls0_MFCC_6', 'outCalls0_MFCC_7', 'outCalls0_MFCC_8', 'outCalls0_MFCC_9', 'outCalls0_Max', 'outCalls0_Max power spectrum', 'outCalls0_Maximum frequency', 'outCalls0_Mean', 'outCalls0_Mean absolute deviation', 'outCalls0_Mean absolute diff', 'outCalls0_Mean diff', 'outCalls0_Median', 'outCalls0_Median absolute deviation', 'outCalls0_Median absolute diff', 'outCalls0_Median diff', 'outCalls0_Median frequency', 'outCalls0_Min', 'outCalls0_Negative turning points', 'outCalls0_Neighbourhood peaks', 'outCalls0_Peak to peak distance', 'outCalls0_Positive turning points', 'outCalls0_Power bandwidth', 'outCalls0_Root mean square', 'outCalls0_Signal distance', 'outCalls0_Skewness', 'outCalls0_Slope', 'outCalls0_Spectral centroid', 'outCalls0_Spectral decrease', 'outCalls0_Spectral distance', 'outCalls0_Spectral entropy', 'outCalls0_Spectral kurtosis', 'outCalls0_Spectral positive turning points', 'outCalls0_Spectral roll-off', 'outCalls0_Spectral roll-on', 'outCalls0_Spectral skewness', 'outCalls0_Spectral slope', 'outCalls0_Spectral spread', 'outCalls0_Spectral variation', 'outCalls0_Standard deviation', 'outCalls0_Sum absolute diff', 'outCalls0_Total energy', 'outCalls0_Variance', 'outCalls0_Wavelet absolute mean_0', 'outCalls0_Wavelet absolute mean_1', 'outCalls0_Wavelet absolute mean_2', 'outCalls0_Wavelet absolute mean_3', 'outCalls0_Wavelet absolute mean_4', 'outCalls0_Wavelet absolute mean_5', 'outCalls0_Wavelet absolute mean_6', 'outCalls0_Wavelet absolute mean_7', 'outCalls0_Wavelet absolute mean_8', 'outCalls0_Wavelet energy_0', 'outCalls0_Wavelet energy_1', 'outCalls0_Wavelet energy_2', 'outCalls0_Wavelet energy_3', 'outCalls0_Wavelet energy_4', 'outCalls0_Wavelet energy_5', 'outCalls0_Wavelet energy_6', 'outCalls0_Wavelet energy_7', 'outCalls0_Wavelet energy_8', 'outCalls0_Wavelet entropy', 'outCalls0_Wavelet standard deviation_0', 'outCalls0_Wavelet standard deviation_1', 'outCalls0_Wavelet standard deviation_2', 'outCalls0_Wavelet standard deviation_3', 'outCalls0_Wavelet standard deviation_4', 'outCalls0_Wavelet standard deviation_5', 'outCalls0_Wavelet standard deviation_6', 'outCalls0_Wavelet standard deviation_7', 'outCalls0_Wavelet standard deviation_8', 'outCalls0_Wavelet variance_0', 'outCalls0_Wavelet variance_1', 'outCalls0_Wavelet variance_2', 'outCalls0_Wavelet variance_3', 'outCalls0_Wavelet variance_4', 'outCalls0_Wavelet variance_5', 'outCalls0_Wavelet variance_6', 'outCalls0_Wavelet variance_7', 'outCalls0_Wavelet variance_8', 'outCalls0_Zero crossing rate', 'phq9_y', 'gad7_y']\n"
     ]
    },
    {
     "data": {
      "text/html": [
       "<div>\n",
       "<style scoped>\n",
       "    .dataframe tbody tr th:only-of-type {\n",
       "        vertical-align: middle;\n",
       "    }\n",
       "\n",
       "    .dataframe tbody tr th {\n",
       "        vertical-align: top;\n",
       "    }\n",
       "\n",
       "    .dataframe thead th {\n",
       "        text-align: right;\n",
       "    }\n",
       "</style>\n",
       "<table border=\"1\" class=\"dataframe\">\n",
       "  <thead>\n",
       "    <tr style=\"text-align: right;\">\n",
       "      <th></th>\n",
       "      <th>id</th>\n",
       "      <th>inCalls</th>\n",
       "      <th>outCalls</th>\n",
       "      <th>allCalls</th>\n",
       "      <th>inText</th>\n",
       "      <th>outText</th>\n",
       "      <th>allText</th>\n",
       "      <th>allLogs</th>\n",
       "      <th>phq9_x</th>\n",
       "      <th>gad7_x</th>\n",
       "      <th>...</th>\n",
       "      <th>outCalls0_Wavelet variance_2</th>\n",
       "      <th>outCalls0_Wavelet variance_3</th>\n",
       "      <th>outCalls0_Wavelet variance_4</th>\n",
       "      <th>outCalls0_Wavelet variance_5</th>\n",
       "      <th>outCalls0_Wavelet variance_6</th>\n",
       "      <th>outCalls0_Wavelet variance_7</th>\n",
       "      <th>outCalls0_Wavelet variance_8</th>\n",
       "      <th>outCalls0_Zero crossing rate</th>\n",
       "      <th>phq9_y</th>\n",
       "      <th>gad7_y</th>\n",
       "    </tr>\n",
       "  </thead>\n",
       "  <tbody>\n",
       "    <tr>\n",
       "      <th>0</th>\n",
       "      <td>8SEHPRKH5</td>\n",
       "      <td>2699</td>\n",
       "      <td>1635</td>\n",
       "      <td>4334</td>\n",
       "      <td>271</td>\n",
       "      <td>159</td>\n",
       "      <td>430</td>\n",
       "      <td>4764</td>\n",
       "      <td>11</td>\n",
       "      <td>9</td>\n",
       "      <td>...</td>\n",
       "      <td>4.045134e+05</td>\n",
       "      <td>3.154076e+05</td>\n",
       "      <td>2.307977e+05</td>\n",
       "      <td>177738.097688</td>\n",
       "      <td>147068.120980</td>\n",
       "      <td>128451.466641</td>\n",
       "      <td>116002.530161</td>\n",
       "      <td>4.0</td>\n",
       "      <td>11</td>\n",
       "      <td>9</td>\n",
       "    </tr>\n",
       "    <tr>\n",
       "      <th>1</th>\n",
       "      <td>9UK1BSBLV</td>\n",
       "      <td>1963</td>\n",
       "      <td>37</td>\n",
       "      <td>2000</td>\n",
       "      <td>3497</td>\n",
       "      <td>104</td>\n",
       "      <td>3601</td>\n",
       "      <td>5601</td>\n",
       "      <td>6</td>\n",
       "      <td>1</td>\n",
       "      <td>...</td>\n",
       "      <td>6.075872e+02</td>\n",
       "      <td>4.647918e+02</td>\n",
       "      <td>2.988297e+02</td>\n",
       "      <td>182.340760</td>\n",
       "      <td>112.353802</td>\n",
       "      <td>71.603635</td>\n",
       "      <td>47.553689</td>\n",
       "      <td>6.0</td>\n",
       "      <td>6</td>\n",
       "      <td>1</td>\n",
       "    </tr>\n",
       "    <tr>\n",
       "      <th>2</th>\n",
       "      <td>8LOAAXQ52</td>\n",
       "      <td>1820</td>\n",
       "      <td>1319</td>\n",
       "      <td>3139</td>\n",
       "      <td>6806</td>\n",
       "      <td>0</td>\n",
       "      <td>6806</td>\n",
       "      <td>9945</td>\n",
       "      <td>8</td>\n",
       "      <td>5</td>\n",
       "      <td>...</td>\n",
       "      <td>7.011985e+06</td>\n",
       "      <td>4.160517e+06</td>\n",
       "      <td>1.927105e+06</td>\n",
       "      <td>939889.397772</td>\n",
       "      <td>623484.349712</td>\n",
       "      <td>575110.868332</td>\n",
       "      <td>613022.998698</td>\n",
       "      <td>2.0</td>\n",
       "      <td>8</td>\n",
       "      <td>5</td>\n",
       "    </tr>\n",
       "    <tr>\n",
       "      <th>3</th>\n",
       "      <td>3NL2J473W</td>\n",
       "      <td>1653</td>\n",
       "      <td>347</td>\n",
       "      <td>2000</td>\n",
       "      <td>548</td>\n",
       "      <td>243</td>\n",
       "      <td>791</td>\n",
       "      <td>2791</td>\n",
       "      <td>12</td>\n",
       "      <td>8</td>\n",
       "      <td>...</td>\n",
       "      <td>6.962548e+02</td>\n",
       "      <td>2.341504e+02</td>\n",
       "      <td>7.659223e+01</td>\n",
       "      <td>39.255697</td>\n",
       "      <td>40.123745</td>\n",
       "      <td>50.110467</td>\n",
       "      <td>60.012478</td>\n",
       "      <td>5.0</td>\n",
       "      <td>12</td>\n",
       "      <td>8</td>\n",
       "    </tr>\n",
       "    <tr>\n",
       "      <th>4</th>\n",
       "      <td>OVW13SMGC</td>\n",
       "      <td>1648</td>\n",
       "      <td>352</td>\n",
       "      <td>2000</td>\n",
       "      <td>1544</td>\n",
       "      <td>812</td>\n",
       "      <td>2356</td>\n",
       "      <td>4356</td>\n",
       "      <td>3</td>\n",
       "      <td>5</td>\n",
       "      <td>...</td>\n",
       "      <td>3.925101e+02</td>\n",
       "      <td>2.744714e+02</td>\n",
       "      <td>1.691722e+02</td>\n",
       "      <td>104.908265</td>\n",
       "      <td>69.412641</td>\n",
       "      <td>49.783911</td>\n",
       "      <td>38.477216</td>\n",
       "      <td>2.0</td>\n",
       "      <td>3</td>\n",
       "      <td>5</td>\n",
       "    </tr>\n",
       "  </tbody>\n",
       "</table>\n",
       "<p>5 rows × 607 columns</p>\n",
       "</div>"
      ],
      "text/plain": [
       "          id  inCalls  outCalls  allCalls  inText  outText  allText  allLogs  \\\n",
       "0  8SEHPRKH5     2699      1635      4334     271      159      430     4764   \n",
       "1  9UK1BSBLV     1963        37      2000    3497      104     3601     5601   \n",
       "2  8LOAAXQ52     1820      1319      3139    6806        0     6806     9945   \n",
       "3  3NL2J473W     1653       347      2000     548      243      791     2791   \n",
       "4  OVW13SMGC     1648       352      2000    1544      812     2356     4356   \n",
       "\n",
       "   phq9_x  gad7_x  ... outCalls0_Wavelet variance_2  \\\n",
       "0      11       9  ...                 4.045134e+05   \n",
       "1       6       1  ...                 6.075872e+02   \n",
       "2       8       5  ...                 7.011985e+06   \n",
       "3      12       8  ...                 6.962548e+02   \n",
       "4       3       5  ...                 3.925101e+02   \n",
       "\n",
       "   outCalls0_Wavelet variance_3  outCalls0_Wavelet variance_4  \\\n",
       "0                  3.154076e+05                  2.307977e+05   \n",
       "1                  4.647918e+02                  2.988297e+02   \n",
       "2                  4.160517e+06                  1.927105e+06   \n",
       "3                  2.341504e+02                  7.659223e+01   \n",
       "4                  2.744714e+02                  1.691722e+02   \n",
       "\n",
       "   outCalls0_Wavelet variance_5  outCalls0_Wavelet variance_6  \\\n",
       "0                 177738.097688                 147068.120980   \n",
       "1                    182.340760                    112.353802   \n",
       "2                 939889.397772                 623484.349712   \n",
       "3                     39.255697                     40.123745   \n",
       "4                    104.908265                     69.412641   \n",
       "\n",
       "   outCalls0_Wavelet variance_7  outCalls0_Wavelet variance_8  \\\n",
       "0                 128451.466641                 116002.530161   \n",
       "1                     71.603635                     47.553689   \n",
       "2                 575110.868332                 613022.998698   \n",
       "3                     50.110467                     60.012478   \n",
       "4                     49.783911                     38.477216   \n",
       "\n",
       "   outCalls0_Zero crossing rate  phq9_y  gad7_y  \n",
       "0                           4.0      11       9  \n",
       "1                           6.0       6       1  \n",
       "2                           2.0       8       5  \n",
       "3                           5.0      12       8  \n",
       "4                           2.0       3       5  \n",
       "\n",
       "[5 rows x 607 columns]"
      ]
     },
     "execution_count": 2,
     "metadata": {},
     "output_type": "execute_result"
    }
   ],
   "source": [
    "data1 = pd.read_csv(\"C:/Users/student/Data Minning/summaryDepreST-CAT.csv\")\n",
    "data2 = pd.read_csv(\"C:/Users/student/Data Minning/surveysDepreST-CAT.csv\")\n",
    "data3 = pd.read_csv(\"C:/Users/student/Data Minning/featureSet2weeksDepreST-CAT.csv\")\n",
    "data = data1.merge(data2, on = 'id')\n",
    "data = data.merge(data3, on = 'id')\n",
    "print(data.shape)\n",
    "print(list(data.columns))\n",
    "data.head()"
   ]
  },
  {
   "cell_type": "code",
   "execution_count": 3,
   "metadata": {},
   "outputs": [
    {
     "data": {
      "text/html": [
       "<div>\n",
       "<style scoped>\n",
       "    .dataframe tbody tr th:only-of-type {\n",
       "        vertical-align: middle;\n",
       "    }\n",
       "\n",
       "    .dataframe tbody tr th {\n",
       "        vertical-align: top;\n",
       "    }\n",
       "\n",
       "    .dataframe thead th {\n",
       "        text-align: right;\n",
       "    }\n",
       "</style>\n",
       "<table border=\"1\" class=\"dataframe\">\n",
       "  <thead>\n",
       "    <tr style=\"text-align: right;\">\n",
       "      <th></th>\n",
       "      <th>inText</th>\n",
       "      <th>outText</th>\n",
       "    </tr>\n",
       "  </thead>\n",
       "  <tbody>\n",
       "    <tr>\n",
       "      <th>0</th>\n",
       "      <td>271</td>\n",
       "      <td>159</td>\n",
       "    </tr>\n",
       "    <tr>\n",
       "      <th>1</th>\n",
       "      <td>3497</td>\n",
       "      <td>104</td>\n",
       "    </tr>\n",
       "    <tr>\n",
       "      <th>2</th>\n",
       "      <td>6806</td>\n",
       "      <td>0</td>\n",
       "    </tr>\n",
       "    <tr>\n",
       "      <th>3</th>\n",
       "      <td>548</td>\n",
       "      <td>243</td>\n",
       "    </tr>\n",
       "    <tr>\n",
       "      <th>4</th>\n",
       "      <td>1544</td>\n",
       "      <td>812</td>\n",
       "    </tr>\n",
       "  </tbody>\n",
       "</table>\n",
       "</div>"
      ],
      "text/plain": [
       "   inText  outText\n",
       "0     271      159\n",
       "1    3497      104\n",
       "2    6806        0\n",
       "3     548      243\n",
       "4    1544      812"
      ]
     },
     "execution_count": 3,
     "metadata": {},
     "output_type": "execute_result"
    }
   ],
   "source": [
    "v1 = \"inText\"\n",
    "v2 = \"outText\"\n",
    "df = data[[v1, v2]]\n",
    "df.head()"
   ]
  },
  {
   "cell_type": "code",
   "execution_count": 4,
   "metadata": {},
   "outputs": [
    {
     "data": {
      "image/png": "[encoded data removed]",
      "text/plain": [
       "<Figure size 432x288 with 1 Axes>"
      ]
     },
     "metadata": {
      "needs_background": "light"
     },
     "output_type": "display_data"
    }
   ],
   "source": [
    "plt.figure()\n",
    "plt.scatter(df[v1], df[v2])\n",
    "plt.xlabel(v1)\n",
    "plt.ylabel(v2)\n",
    "plt.show()\n",
    "plt.close()"
   ]
  },
  {
   "cell_type": "code",
   "execution_count": 5,
   "metadata": {},
   "outputs": [],
   "source": [
    "k = 3\n",
    "kmeans = KMeans(n_clusters=k, random_state=0).fit(df)\n",
    "cs = kmeans.labels_"
   ]
  },
  {
   "cell_type": "code",
   "execution_count": 6,
   "metadata": {},
   "outputs": [
    {
     "name": "stderr",
     "output_type": "stream",
     "text": [
      "C:\\Users\\student\\AppData\\Local\\Temp/ipykernel_9608/845050371.py:1: SettingWithCopyWarning: \n",
      "A value is trying to be set on a copy of a slice from a DataFrame.\n",
      "Try using .loc[row_indexer,col_indexer] = value instead\n",
      "\n",
      "See the caveats in the documentation: https://pandas.pydata.org/pandas-docs/stable/user_guide/indexing.html#returning-a-view-versus-a-copy\n",
      "  df[\"cluster\"] = cs\n"
     ]
    },
    {
     "data": {
      "text/html": [
       "<div>\n",
       "<style scoped>\n",
       "    .dataframe tbody tr th:only-of-type {\n",
       "        vertical-align: middle;\n",
       "    }\n",
       "\n",
       "    .dataframe tbody tr th {\n",
       "        vertical-align: top;\n",
       "    }\n",
       "\n",
       "    .dataframe thead th {\n",
       "        text-align: right;\n",
       "    }\n",
       "</style>\n",
       "<table border=\"1\" class=\"dataframe\">\n",
       "  <thead>\n",
       "    <tr style=\"text-align: right;\">\n",
       "      <th></th>\n",
       "      <th>inText</th>\n",
       "      <th>outText</th>\n",
       "      <th>cluster</th>\n",
       "    </tr>\n",
       "  </thead>\n",
       "  <tbody>\n",
       "    <tr>\n",
       "      <th>0</th>\n",
       "      <td>271</td>\n",
       "      <td>159</td>\n",
       "      <td>0</td>\n",
       "    </tr>\n",
       "    <tr>\n",
       "      <th>1</th>\n",
       "      <td>3497</td>\n",
       "      <td>104</td>\n",
       "      <td>2</td>\n",
       "    </tr>\n",
       "    <tr>\n",
       "      <th>2</th>\n",
       "      <td>6806</td>\n",
       "      <td>0</td>\n",
       "      <td>2</td>\n",
       "    </tr>\n",
       "    <tr>\n",
       "      <th>3</th>\n",
       "      <td>548</td>\n",
       "      <td>243</td>\n",
       "      <td>0</td>\n",
       "    </tr>\n",
       "    <tr>\n",
       "      <th>4</th>\n",
       "      <td>1544</td>\n",
       "      <td>812</td>\n",
       "      <td>0</td>\n",
       "    </tr>\n",
       "  </tbody>\n",
       "</table>\n",
       "</div>"
      ],
      "text/plain": [
       "   inText  outText  cluster\n",
       "0     271      159        0\n",
       "1    3497      104        2\n",
       "2    6806        0        2\n",
       "3     548      243        0\n",
       "4    1544      812        0"
      ]
     },
     "execution_count": 6,
     "metadata": {},
     "output_type": "execute_result"
    }
   ],
   "source": [
    "df[\"cluster\"] = cs\n",
    "df.head()"
   ]
  },
  {
   "cell_type": "code",
   "execution_count": 7,
   "metadata": {},
   "outputs": [
    {
     "name": "stdout",
     "output_type": "stream",
     "text": [
      "(321, 3)\n",
      "(5, 3)\n",
      "(43, 3)\n",
      "(0, 3)\n",
      "(0, 3)\n"
     ]
    }
   ],
   "source": [
    "c0 = df[df[\"cluster\"] == 0]\n",
    "print(c0.shape)\n",
    "c1 = df[df[\"cluster\"] == 1]\n",
    "print(c1.shape)\n",
    "c2 = df[df[\"cluster\"] == 2]\n",
    "print(c2.shape)\n",
    "c3 = df[df[\"cluster\"] == 3]\n",
    "print(c3.shape)\n",
    "c4 = df[df[\"cluster\"] == 4]\n",
    "print(c4.shape)"
   ]
  },
  {
   "cell_type": "code",
   "execution_count": 8,
   "metadata": {},
   "outputs": [
    {
     "data": {
      "image/png": "[encoded data removed]",
      "text/plain": [
       "<Figure size 432x288 with 1 Axes>"
      ]
     },
     "metadata": {
      "needs_background": "light"
     },
     "output_type": "display_data"
    }
   ],
   "source": [
    "plt.figure()\n",
    "plt.scatter(c0[v1], c0[v2])\n",
    "plt.scatter(c1[v1], c1[v2])\n",
    "plt.scatter(c2[v1], c2[v2])\n",
    "plt.scatter(c3[v1], c3[v2])\n",
    "plt.scatter(c4[v1], c4[v2])\n",
    "plt.xlabel(v1)\n",
    "plt.ylabel(v2)\n",
    "plt.show()\n",
    "plt.close()"
   ]
  },
  {
   "cell_type": "markdown",
   "metadata": {},
   "source": [
    "# Lab Instructions\n",
    "* Chose different features for v1 and v2, why did you choose these features?\n",
    "* Try for five to ten different random_state, what do you observe?\n",
    "* Add or remove a cluster, how many clusters makes the most sense for your features?\n",
    "* Add comments to the code to explain what each piece does\n",
    "* Make the notebooks into a professional report with headings, markdown cell explanations, and print statements\n",
    "\n",
    "Challenge for participation points: compare k-means with DBSCAN and Hierarchical clustering"
   ]
  },
  {
   "cell_type": "code",
   "execution_count": 9,
   "metadata": {},
   "outputs": [
    {
     "data": {
      "text/html": [
       "<div>\n",
       "<style scoped>\n",
       "    .dataframe tbody tr th:only-of-type {\n",
       "        vertical-align: middle;\n",
       "    }\n",
       "\n",
       "    .dataframe tbody tr th {\n",
       "        vertical-align: top;\n",
       "    }\n",
       "\n",
       "    .dataframe thead th {\n",
       "        text-align: right;\n",
       "    }\n",
       "</style>\n",
       "<table border=\"1\" class=\"dataframe\">\n",
       "  <thead>\n",
       "    <tr style=\"text-align: right;\">\n",
       "      <th></th>\n",
       "      <th>inCalls</th>\n",
       "      <th>outCalls</th>\n",
       "    </tr>\n",
       "  </thead>\n",
       "  <tbody>\n",
       "    <tr>\n",
       "      <th>0</th>\n",
       "      <td>2699</td>\n",
       "      <td>1635</td>\n",
       "    </tr>\n",
       "    <tr>\n",
       "      <th>1</th>\n",
       "      <td>1963</td>\n",
       "      <td>37</td>\n",
       "    </tr>\n",
       "    <tr>\n",
       "      <th>2</th>\n",
       "      <td>1820</td>\n",
       "      <td>1319</td>\n",
       "    </tr>\n",
       "    <tr>\n",
       "      <th>3</th>\n",
       "      <td>1653</td>\n",
       "      <td>347</td>\n",
       "    </tr>\n",
       "    <tr>\n",
       "      <th>4</th>\n",
       "      <td>1648</td>\n",
       "      <td>352</td>\n",
       "    </tr>\n",
       "  </tbody>\n",
       "</table>\n",
       "</div>"
      ],
      "text/plain": [
       "   inCalls  outCalls\n",
       "0     2699      1635\n",
       "1     1963        37\n",
       "2     1820      1319\n",
       "3     1653       347\n",
       "4     1648       352"
      ]
     },
     "execution_count": 9,
     "metadata": {},
     "output_type": "execute_result"
    }
   ],
   "source": [
    "v1 = \"inCalls\"\n",
    "v2 = \"outCalls\"\n",
    "df = data[[v1, v2]]\n",
    "df.head()\n",
    "# this sets the variables that are being used from the data and prints the first five data points for the columns out of the  \n",
    "# variables data "
   ]
  },
  {
   "cell_type": "code",
   "execution_count": 10,
   "metadata": {},
   "outputs": [
    {
     "data": {
      "image/png": "[encoded data removed]",
      "text/plain": [
       "<Figure size 432x288 with 1 Axes>"
      ]
     },
     "metadata": {
      "needs_background": "light"
     },
     "output_type": "display_data"
    }
   ],
   "source": [
    "plt.figure()\n",
    "plt.scatter(df[v1], df[v2])\n",
    "plt.xlabel(v1)\n",
    "plt.ylabel(v2)\n",
    "plt.show()\n",
    "plt.close()\n",
    "# this section of code takes the infromation from the table above and the rest of the data points from the dataframe \n",
    "# and then makes the data points into a graph"
   ]
  },
  {
   "cell_type": "code",
   "execution_count": 11,
   "metadata": {},
   "outputs": [],
   "source": [
    "k = 5\n",
    "kmeans = KMeans(n_clusters=k, random_state=5).fit(df)\n",
    "cs = kmeans.labels_\n",
    "# it creats the aspects of how the cluster in the graph would be split up"
   ]
  },
  {
   "cell_type": "code",
   "execution_count": 12,
   "metadata": {},
   "outputs": [
    {
     "name": "stderr",
     "output_type": "stream",
     "text": [
      "C:\\Users\\student\\AppData\\Local\\Temp/ipykernel_9608/4019823309.py:1: SettingWithCopyWarning: \n",
      "A value is trying to be set on a copy of a slice from a DataFrame.\n",
      "Try using .loc[row_indexer,col_indexer] = value instead\n",
      "\n",
      "See the caveats in the documentation: https://pandas.pydata.org/pandas-docs/stable/user_guide/indexing.html#returning-a-view-versus-a-copy\n",
      "  df[\"cluster\"] = cs\n"
     ]
    },
    {
     "data": {
      "text/html": [
       "<div>\n",
       "<style scoped>\n",
       "    .dataframe tbody tr th:only-of-type {\n",
       "        vertical-align: middle;\n",
       "    }\n",
       "\n",
       "    .dataframe tbody tr th {\n",
       "        vertical-align: top;\n",
       "    }\n",
       "\n",
       "    .dataframe thead th {\n",
       "        text-align: right;\n",
       "    }\n",
       "</style>\n",
       "<table border=\"1\" class=\"dataframe\">\n",
       "  <thead>\n",
       "    <tr style=\"text-align: right;\">\n",
       "      <th></th>\n",
       "      <th>inCalls</th>\n",
       "      <th>outCalls</th>\n",
       "      <th>cluster</th>\n",
       "    </tr>\n",
       "  </thead>\n",
       "  <tbody>\n",
       "    <tr>\n",
       "      <th>0</th>\n",
       "      <td>2699</td>\n",
       "      <td>1635</td>\n",
       "      <td>3</td>\n",
       "    </tr>\n",
       "    <tr>\n",
       "      <th>1</th>\n",
       "      <td>1963</td>\n",
       "      <td>37</td>\n",
       "      <td>3</td>\n",
       "    </tr>\n",
       "    <tr>\n",
       "      <th>2</th>\n",
       "      <td>1820</td>\n",
       "      <td>1319</td>\n",
       "      <td>3</td>\n",
       "    </tr>\n",
       "    <tr>\n",
       "      <th>3</th>\n",
       "      <td>1653</td>\n",
       "      <td>347</td>\n",
       "      <td>3</td>\n",
       "    </tr>\n",
       "    <tr>\n",
       "      <th>4</th>\n",
       "      <td>1648</td>\n",
       "      <td>352</td>\n",
       "      <td>3</td>\n",
       "    </tr>\n",
       "  </tbody>\n",
       "</table>\n",
       "</div>"
      ],
      "text/plain": [
       "   inCalls  outCalls  cluster\n",
       "0     2699      1635        3\n",
       "1     1963        37        3\n",
       "2     1820      1319        3\n",
       "3     1653       347        3\n",
       "4     1648       352        3"
      ]
     },
     "execution_count": 12,
     "metadata": {},
     "output_type": "execute_result"
    }
   ],
   "source": [
    "df[\"cluster\"] = cs\n",
    "df.head()\n",
    "# this resets the index above and sets and the varibles by adding a thrid column that labels what cluster that they are in"
   ]
  },
  {
   "cell_type": "code",
   "execution_count": 13,
   "metadata": {},
   "outputs": [
    {
     "name": "stdout",
     "output_type": "stream",
     "text": [
      "(60, 3)\n",
      "(113, 3)\n",
      "(156, 3)\n",
      "(26, 3)\n",
      "(14, 3)\n"
     ]
    }
   ],
   "source": [
    "c0 = df[df[\"cluster\"] == 0]\n",
    "print(c0.shape)\n",
    "c1 = df[df[\"cluster\"] == 1]\n",
    "print(c1.shape)\n",
    "c2 = df[df[\"cluster\"] == 2]\n",
    "print(c2.shape)\n",
    "c3 = df[df[\"cluster\"] == 3]\n",
    "print(c3.shape)\n",
    "c4 = df[df[\"cluster\"] == 4]\n",
    "print(c4.shape)\n",
    "# this designates the different clusters into the dataframe "
   ]
  },
  {
   "cell_type": "code",
   "execution_count": 14,
   "metadata": {},
   "outputs": [
    {
     "data": {
      "image/png": "[encoded data removed]",
      "text/plain": [
       "<Figure size 432x288 with 1 Axes>"
      ]
     },
     "metadata": {
      "needs_background": "light"
     },
     "output_type": "display_data"
    }
   ],
   "source": [
    "plt.figure()\n",
    "plt.scatter(c0[v1], c0[v2])\n",
    "plt.scatter(c1[v1], c1[v2])\n",
    "plt.scatter(c2[v1], c2[v2])\n",
    "plt.scatter(c3[v1], c3[v2])\n",
    "plt.scatter(c4[v1], c4[v2])\n",
    "plt.xlabel(v1)\n",
    "plt.ylabel(v2)\n",
    "plt.show()\n",
    "plt.close()\n",
    "# this recreates the original graph with the k-means and cluster variables and splits the clusters up by changing the \n",
    "# color of the data points to designate the different clusters visually "
   ]
  },
  {
   "cell_type": "code",
   "execution_count": 15,
   "metadata": {},
   "outputs": [
    {
     "name": "stderr",
     "output_type": "stream",
     "text": [
      "C:\\Users\\student\\AppData\\Local\\Temp/ipykernel_9608/2451146045.py:5: SettingWithCopyWarning: \n",
      "A value is trying to be set on a copy of a slice from a DataFrame.\n",
      "Try using .loc[row_indexer,col_indexer] = value instead\n",
      "\n",
      "See the caveats in the documentation: https://pandas.pydata.org/pandas-docs/stable/user_guide/indexing.html#returning-a-view-versus-a-copy\n",
      "  df[\"cluster\"] = cs\n"
     ]
    },
    {
     "data": {
      "image/png": "[encoded data removed]",
      "text/plain": [
       "<Figure size 432x288 with 1 Axes>"
      ]
     },
     "metadata": {
      "needs_background": "light"
     },
     "output_type": "display_data"
    },
    {
     "name": "stderr",
     "output_type": "stream",
     "text": [
      "C:\\Users\\student\\AppData\\Local\\Temp/ipykernel_9608/2451146045.py:5: SettingWithCopyWarning: \n",
      "A value is trying to be set on a copy of a slice from a DataFrame.\n",
      "Try using .loc[row_indexer,col_indexer] = value instead\n",
      "\n",
      "See the caveats in the documentation: https://pandas.pydata.org/pandas-docs/stable/user_guide/indexing.html#returning-a-view-versus-a-copy\n",
      "  df[\"cluster\"] = cs\n"
     ]
    },
    {
     "data": {
      "image/png": "[encoded data removed]",
      "text/plain": [
       "<Figure size 432x288 with 1 Axes>"
      ]
     },
     "metadata": {
      "needs_background": "light"
     },
     "output_type": "display_data"
    },
    {
     "name": "stderr",
     "output_type": "stream",
     "text": [
      "C:\\Users\\student\\AppData\\Local\\Temp/ipykernel_9608/2451146045.py:5: SettingWithCopyWarning: \n",
      "A value is trying to be set on a copy of a slice from a DataFrame.\n",
      "Try using .loc[row_indexer,col_indexer] = value instead\n",
      "\n",
      "See the caveats in the documentation: https://pandas.pydata.org/pandas-docs/stable/user_guide/indexing.html#returning-a-view-versus-a-copy\n",
      "  df[\"cluster\"] = cs\n"
     ]
    },
    {
     "data": {
      "image/png": "[encoded data removed]",
      "text/plain": [
       "<Figure size 432x288 with 1 Axes>"
      ]
     },
     "metadata": {
      "needs_background": "light"
     },
     "output_type": "display_data"
    },
    {
     "name": "stderr",
     "output_type": "stream",
     "text": [
      "C:\\Users\\student\\AppData\\Local\\Temp/ipykernel_9608/2451146045.py:5: SettingWithCopyWarning: \n",
      "A value is trying to be set on a copy of a slice from a DataFrame.\n",
      "Try using .loc[row_indexer,col_indexer] = value instead\n",
      "\n",
      "See the caveats in the documentation: https://pandas.pydata.org/pandas-docs/stable/user_guide/indexing.html#returning-a-view-versus-a-copy\n",
      "  df[\"cluster\"] = cs\n"
     ]
    },
    {
     "data": {
      "image/png": "[encoded data removed]",
      "text/plain": [
       "<Figure size 432x288 with 1 Axes>"
      ]
     },
     "metadata": {
      "needs_background": "light"
     },
     "output_type": "display_data"
    },
    {
     "name": "stderr",
     "output_type": "stream",
     "text": [
      "C:\\Users\\student\\AppData\\Local\\Temp/ipykernel_9608/2451146045.py:5: SettingWithCopyWarning: \n",
      "A value is trying to be set on a copy of a slice from a DataFrame.\n",
      "Try using .loc[row_indexer,col_indexer] = value instead\n",
      "\n",
      "See the caveats in the documentation: https://pandas.pydata.org/pandas-docs/stable/user_guide/indexing.html#returning-a-view-versus-a-copy\n",
      "  df[\"cluster\"] = cs\n"
     ]
    },
    {
     "data": {
      "image/png": "[encoded data removed]",
      "text/plain": [
       "<Figure size 432x288 with 1 Axes>"
      ]
     },
     "metadata": {
      "needs_background": "light"
     },
     "output_type": "display_data"
    },
    {
     "name": "stderr",
     "output_type": "stream",
     "text": [
      "C:\\Users\\student\\AppData\\Local\\Temp/ipykernel_9608/2451146045.py:5: SettingWithCopyWarning: \n",
      "A value is trying to be set on a copy of a slice from a DataFrame.\n",
      "Try using .loc[row_indexer,col_indexer] = value instead\n",
      "\n",
      "See the caveats in the documentation: https://pandas.pydata.org/pandas-docs/stable/user_guide/indexing.html#returning-a-view-versus-a-copy\n",
      "  df[\"cluster\"] = cs\n"
     ]
    },
    {
     "data": {
      "image/png": "[encoded data removed]",
      "text/plain": [
       "<Figure size 432x288 with 1 Axes>"
      ]
     },
     "metadata": {
      "needs_background": "light"
     },
     "output_type": "display_data"
    },
    {
     "name": "stderr",
     "output_type": "stream",
     "text": [
      "C:\\Users\\student\\AppData\\Local\\Temp/ipykernel_9608/2451146045.py:5: SettingWithCopyWarning: \n",
      "A value is trying to be set on a copy of a slice from a DataFrame.\n",
      "Try using .loc[row_indexer,col_indexer] = value instead\n",
      "\n",
      "See the caveats in the documentation: https://pandas.pydata.org/pandas-docs/stable/user_guide/indexing.html#returning-a-view-versus-a-copy\n",
      "  df[\"cluster\"] = cs\n"
     ]
    },
    {
     "data": {
      "image/png": "[encoded data removed]",
      "text/plain": [
       "<Figure size 432x288 with 1 Axes>"
      ]
     },
     "metadata": {
      "needs_background": "light"
     },
     "output_type": "display_data"
    },
    {
     "name": "stderr",
     "output_type": "stream",
     "text": [
      "C:\\Users\\student\\AppData\\Local\\Temp/ipykernel_9608/2451146045.py:5: SettingWithCopyWarning: \n",
      "A value is trying to be set on a copy of a slice from a DataFrame.\n",
      "Try using .loc[row_indexer,col_indexer] = value instead\n",
      "\n",
      "See the caveats in the documentation: https://pandas.pydata.org/pandas-docs/stable/user_guide/indexing.html#returning-a-view-versus-a-copy\n",
      "  df[\"cluster\"] = cs\n"
     ]
    },
    {
     "data": {
      "image/png": "[encoded data removed]",
      "text/plain": [
       "<Figure size 432x288 with 1 Axes>"
      ]
     },
     "metadata": {
      "needs_background": "light"
     },
     "output_type": "display_data"
    },
    {
     "name": "stderr",
     "output_type": "stream",
     "text": [
      "C:\\Users\\student\\AppData\\Local\\Temp/ipykernel_9608/2451146045.py:5: SettingWithCopyWarning: \n",
      "A value is trying to be set on a copy of a slice from a DataFrame.\n",
      "Try using .loc[row_indexer,col_indexer] = value instead\n",
      "\n",
      "See the caveats in the documentation: https://pandas.pydata.org/pandas-docs/stable/user_guide/indexing.html#returning-a-view-versus-a-copy\n",
      "  df[\"cluster\"] = cs\n"
     ]
    },
    {
     "data": {
      "image/png": "[encoded data removed]",
      "text/plain": [
       "<Figure size 432x288 with 1 Axes>"
      ]
     },
     "metadata": {
      "needs_background": "light"
     },
     "output_type": "display_data"
    },
    {
     "name": "stderr",
     "output_type": "stream",
     "text": [
      "C:\\Users\\student\\AppData\\Local\\Temp/ipykernel_9608/2451146045.py:5: SettingWithCopyWarning: \n",
      "A value is trying to be set on a copy of a slice from a DataFrame.\n",
      "Try using .loc[row_indexer,col_indexer] = value instead\n",
      "\n",
      "See the caveats in the documentation: https://pandas.pydata.org/pandas-docs/stable/user_guide/indexing.html#returning-a-view-versus-a-copy\n",
      "  df[\"cluster\"] = cs\n"
     ]
    },
    {
     "data": {
      "image/png": "[encoded data removed]",
      "text/plain": [
       "<Figure size 432x288 with 1 Axes>"
      ]
     },
     "metadata": {
      "needs_background": "light"
     },
     "output_type": "display_data"
    }
   ],
   "source": [
    "k = 5\n",
    "for i in range(10):\n",
    "    kmeans = KMeans(n_clusters=k, random_state=i).fit(df)\n",
    "    cs = kmeans.labels_\n",
    "    df[\"cluster\"] = cs\n",
    "    c0 = df[df[\"cluster\"] == 0]\n",
    "    c1 = df[df[\"cluster\"] == 1]\n",
    "    c2 = df[df[\"cluster\"] == 2]\n",
    "    c3 = df[df[\"cluster\"] == 3]\n",
    "    c4 = df[df[\"cluster\"] == 4]\n",
    "    plt.figure()\n",
    "    plt.scatter(c0[v1], c0[v2])\n",
    "    plt.scatter(c1[v1], c1[v2])\n",
    "    plt.scatter(c2[v1], c2[v2])\n",
    "    plt.scatter(c3[v1], c3[v2])\n",
    "    plt.scatter(c4[v1], c4[v2])\n",
    "    plt.xlabel(v1)\n",
    "    plt.ylabel(v2)\n",
    "    plt.show()\n",
    "    plt.close()\n",
    "# this is a for loop that sets a range of ten that with every instace will change the random state of the clusters \n",
    "# so that a graph is outputted for every random states different clusters from a random state of 0 up to 10"
   ]
  },
  {
   "cell_type": "markdown",
   "metadata": {},
   "source": [
    "### 1. Features for v1 and v2 were changed to inCalls and outCalls, because I wanted to see the correlation between the incalls and outcalls to be able to compare it to the intexts and outtexts "
   ]
  },
  {
   "cell_type": "markdown",
   "metadata": {},
   "source": [
    "### 2. When I tried a random state of 10 the cluster slipts didn't seems as clean and concise as the cluster was when a random state of 5 was applied"
   ]
  },
  {
   "cell_type": "markdown",
   "metadata": {},
   "source": [
    "#### Comparing the cluster from KMeans to DBSCAN"
   ]
  },
  {
   "cell_type": "code",
   "execution_count": 16,
   "metadata": {},
   "outputs": [
    {
     "name": "stderr",
     "output_type": "stream",
     "text": [
      "C:\\Users\\student\\AppData\\Local\\Temp/ipykernel_9608/3441514193.py:5: SettingWithCopyWarning: \n",
      "A value is trying to be set on a copy of a slice from a DataFrame.\n",
      "Try using .loc[row_indexer,col_indexer] = value instead\n",
      "\n",
      "See the caveats in the documentation: https://pandas.pydata.org/pandas-docs/stable/user_guide/indexing.html#returning-a-view-versus-a-copy\n",
      "  df[\"cluster\"] = cs\n"
     ]
    },
    {
     "data": {
      "image/png": "[encoded data removed]",
      "text/plain": [
       "<Figure size 432x288 with 1 Axes>"
      ]
     },
     "metadata": {
      "needs_background": "light"
     },
     "output_type": "display_data"
    },
    {
     "data": {
      "image/png": "[encoded data removed]",
      "text/plain": [
       "<Figure size 432x288 with 1 Axes>"
      ]
     },
     "metadata": {
      "needs_background": "light"
     },
     "output_type": "display_data"
    }
   ],
   "source": [
    "# this is utilizing DBSCAN and setting the clusters by customizing how the clusters would be qualified by setting the\n",
    "# distance between the points, this uses code that allows the outliers of the dataset to be shown\n",
    "clustering = DBSCAN(eps=175, min_samples= 2).fit(df)\n",
    "cs = clustering.labels_\n",
    "df[\"cluster\"] = cs\n",
    "c0 = df[df[\"cluster\"] == 0]\n",
    "c1 = df[df[\"cluster\"] == 1]\n",
    "c2 = df[df[\"cluster\"] == 2]\n",
    "c3 = df[df[\"cluster\"] == 3]\n",
    "c4 = df[df[\"cluster\"] == 4]\n",
    "c00 = df[df[\"cluster\"] == -1]\n",
    "plt.figure()\n",
    "#plot with outliers \n",
    "plt.title(\"With outliers\")\n",
    "plt.scatter(c0[v1], c0[v2])\n",
    "plt.scatter(c1[v1], c1[v2])\n",
    "plt.scatter(c2[v1], c2[v2])\n",
    "plt.scatter(c3[v1], c3[v2])\n",
    "plt.scatter(c4[v1], c4[v2])\n",
    "plt.scatter(c00[v1], c00[v2])\n",
    "plt.xlabel(v1)\n",
    "plt.ylabel(v2)\n",
    "plt.show()\n",
    "plt.close()\n",
    "#plot without outliers \n",
    "plt.title(\"Without outliers\")\n",
    "plt.scatter(c0[v1], c0[v2])\n",
    "plt.scatter(c1[v1], c1[v2])\n",
    "plt.scatter(c2[v1], c2[v2])\n",
    "plt.scatter(c3[v1], c3[v2])\n",
    "plt.scatter(c4[v1], c4[v2])\n",
    "\n",
    "plt.xlabel(v1)\n",
    "plt.ylabel(v2)\n",
    "plt.show()\n",
    "plt.close()"
   ]
  },
  {
   "cell_type": "code",
   "execution_count": 17,
   "metadata": {},
   "outputs": [
    {
     "name": "stderr",
     "output_type": "stream",
     "text": [
      "C:\\Users\\student\\AppData\\Local\\Temp/ipykernel_9608/2727359922.py:5: SettingWithCopyWarning: \n",
      "A value is trying to be set on a copy of a slice from a DataFrame.\n",
      "Try using .loc[row_indexer,col_indexer] = value instead\n",
      "\n",
      "See the caveats in the documentation: https://pandas.pydata.org/pandas-docs/stable/user_guide/indexing.html#returning-a-view-versus-a-copy\n",
      "  df[\"cluster\"] = cs\n"
     ]
    },
    {
     "data": {
      "image/png": "[encoded data removed]",
      "text/plain": [
       "<Figure size 432x288 with 1 Axes>"
      ]
     },
     "metadata": {
      "needs_background": "light"
     },
     "output_type": "display_data"
    }
   ],
   "source": [
    "#this cell is running hierachical clustering in which it is picking the amount of clusters itself and finding the best fit\n",
    "# for the criteria to run the size of clusters \n",
    "clustering = AgglomerativeClustering().fit(df)\n",
    "cs = clustering.labels_\n",
    "df[\"cluster\"] = cs\n",
    "c0 = df[df[\"cluster\"] == 0]\n",
    "c1 = df[df[\"cluster\"] == 1]\n",
    "#c2 = df[df[\"cluster\"] == 2]\n",
    "#c3 = df[df[\"cluster\"] == 3]\n",
    "#c4 = df[df[\"cluster\"] == 4]\n",
    "# c00 = df[df[\"cluster\"] == -1]\n",
    "plt.figure()\n",
    "plt.scatter(c0[v1], c0[v2])\n",
    "plt.scatter(c1[v1], c1[v2])\n",
    "#plt.scatter(c2[v1], c2[v2])\n",
    "#plt.scatter(c3[v1], c3[v2])\n",
    "#plt.scatter(c4[v1], c4[v2])\n",
    "# plt.scatter(c00[v1], c00[v2])\n",
    "plt.xlabel(v1)\n",
    "plt.ylabel(v2)\n",
    "plt.show()\n",
    "plt.close()"
   ]
  },
  {
   "cell_type": "code",
   "execution_count": null,
   "metadata": {},
   "outputs": [],
   "source": []
  },
  {
   "cell_type": "markdown",
   "metadata": {},
   "source": [
    "# Lab Instructions (Part 2)\n",
    "\n",
    "* Continue to add comments and make the notebook professional with headings and markdown cell explanations\n",
    "* What does the correlation plot indicate about the relationship between the features? Target variables (PHQ-9 and GAD-7)?\n",
    "* How does var plot change when numberOfFeatures is higher? How many principal components should be used (the elbow)?\n",
    "* What percent of variance in the data is covered by the first principal component? Tenth principal component?\n",
    "* How much variance is plotted by plotting the first two principal components?\n",
    "* Instead of PHQ-9 and GAD-7 scores, try plotting some different survey features v3. Do they match the clusters?\n",
    "* Visually, how many clusters exist when plotting the first two principal components? Update number of clusters k accordingly\n",
    "* What domain-based conclusions can be drawn from clustering the first two principal components?"
   ]
  },
  {
   "cell_type": "code",
   "execution_count": 30,
   "metadata": {},
   "outputs": [],
   "source": [
    "# this takes the PCA package and preprocessing package from sklearn and inmports it into the notebook\n",
    "from sklearn.decomposition import PCA\n",
    "from sklearn import preprocessing"
   ]
  },
  {
   "cell_type": "code",
   "execution_count": 31,
   "metadata": {},
   "outputs": [
    {
     "name": "stderr",
     "output_type": "stream",
     "text": [
      "C:\\Users\\student\\AppData\\Local\\Temp/ipykernel_9608/871273098.py:3: FutureWarning: this method is deprecated in favour of `Styler.format(precision=..)`\n",
      "  corr.style.background_gradient(cmap='coolwarm').set_precision(2)\n"
     ]
    },
    {
     "data": {
      "text/html": [
       "<style type=\"text/css\">\n",
       "#T_8f0cd_row0_col0, #T_8f0cd_row1_col1, #T_8f0cd_row2_col2, #T_8f0cd_row3_col3, #T_8f0cd_row4_col4, #T_8f0cd_row5_col5, #T_8f0cd_row6_col6, #T_8f0cd_row7_col7, #T_8f0cd_row8_col8 {\n",
       "  background-color: #b40426;\n",
       "  color: #f1f1f1;\n",
       "}\n",
       "#T_8f0cd_row0_col1 {\n",
       "  background-color: #f2cab5;\n",
       "  color: #000000;\n",
       "}\n",
       "#T_8f0cd_row0_col2, #T_8f0cd_row2_col0 {\n",
       "  background-color: #cc403a;\n",
       "  color: #f1f1f1;\n",
       "}\n",
       "#T_8f0cd_row0_col3 {\n",
       "  background-color: #b3cdfb;\n",
       "  color: #000000;\n",
       "}\n",
       "#T_8f0cd_row0_col4 {\n",
       "  background-color: #6282ea;\n",
       "  color: #f1f1f1;\n",
       "}\n",
       "#T_8f0cd_row0_col5 {\n",
       "  background-color: #abc8fd;\n",
       "  color: #000000;\n",
       "}\n",
       "#T_8f0cd_row0_col6 {\n",
       "  background-color: #e5d8d1;\n",
       "  color: #000000;\n",
       "}\n",
       "#T_8f0cd_row0_col7, #T_8f0cd_row7_col1 {\n",
       "  background-color: #3e51c5;\n",
       "  color: #f1f1f1;\n",
       "}\n",
       "#T_8f0cd_row0_col8, #T_8f0cd_row4_col7, #T_8f0cd_row7_col3, #T_8f0cd_row7_col4, #T_8f0cd_row7_col5, #T_8f0cd_row7_col6, #T_8f0cd_row8_col0, #T_8f0cd_row8_col1, #T_8f0cd_row8_col2 {\n",
       "  background-color: #3b4cc0;\n",
       "  color: #f1f1f1;\n",
       "}\n",
       "#T_8f0cd_row1_col0 {\n",
       "  background-color: #f3c7b1;\n",
       "  color: #000000;\n",
       "}\n",
       "#T_8f0cd_row1_col2 {\n",
       "  background-color: #e26952;\n",
       "  color: #f1f1f1;\n",
       "}\n",
       "#T_8f0cd_row1_col3, #T_8f0cd_row5_col0 {\n",
       "  background-color: #aec9fc;\n",
       "  color: #000000;\n",
       "}\n",
       "#T_8f0cd_row1_col4 {\n",
       "  background-color: #779af7;\n",
       "  color: #f1f1f1;\n",
       "}\n",
       "#T_8f0cd_row1_col5 {\n",
       "  background-color: #afcafc;\n",
       "  color: #000000;\n",
       "}\n",
       "#T_8f0cd_row1_col6 {\n",
       "  background-color: #e3d9d3;\n",
       "  color: #000000;\n",
       "}\n",
       "#T_8f0cd_row1_col7, #T_8f0cd_row3_col8, #T_8f0cd_row8_col5 {\n",
       "  background-color: #4a63d3;\n",
       "  color: #f1f1f1;\n",
       "}\n",
       "#T_8f0cd_row1_col8 {\n",
       "  background-color: #445acc;\n",
       "  color: #f1f1f1;\n",
       "}\n",
       "#T_8f0cd_row2_col1 {\n",
       "  background-color: #e36b54;\n",
       "  color: #f1f1f1;\n",
       "}\n",
       "#T_8f0cd_row2_col3 {\n",
       "  background-color: #bfd3f6;\n",
       "  color: #000000;\n",
       "}\n",
       "#T_8f0cd_row2_col4 {\n",
       "  background-color: #7093f3;\n",
       "  color: #f1f1f1;\n",
       "}\n",
       "#T_8f0cd_row2_col5 {\n",
       "  background-color: #bbd1f8;\n",
       "  color: #000000;\n",
       "}\n",
       "#T_8f0cd_row2_col6, #T_8f0cd_row4_col6, #T_8f0cd_row6_col2 {\n",
       "  background-color: #f1cdba;\n",
       "  color: #000000;\n",
       "}\n",
       "#T_8f0cd_row2_col7, #T_8f0cd_row4_col8 {\n",
       "  background-color: #455cce;\n",
       "  color: #f1f1f1;\n",
       "}\n",
       "#T_8f0cd_row2_col8 {\n",
       "  background-color: #4055c8;\n",
       "  color: #f1f1f1;\n",
       "}\n",
       "#T_8f0cd_row3_col0 {\n",
       "  background-color: #b5cdfa;\n",
       "  color: #000000;\n",
       "}\n",
       "#T_8f0cd_row3_col1 {\n",
       "  background-color: #a9c6fd;\n",
       "  color: #000000;\n",
       "}\n",
       "#T_8f0cd_row3_col2 {\n",
       "  background-color: #bcd2f7;\n",
       "  color: #000000;\n",
       "}\n",
       "#T_8f0cd_row3_col4 {\n",
       "  background-color: #b1cbfc;\n",
       "  color: #000000;\n",
       "}\n",
       "#T_8f0cd_row3_col5, #T_8f0cd_row5_col3 {\n",
       "  background-color: #c83836;\n",
       "  color: #f1f1f1;\n",
       "}\n",
       "#T_8f0cd_row3_col6, #T_8f0cd_row6_col3 {\n",
       "  background-color: #cf453c;\n",
       "  color: #f1f1f1;\n",
       "}\n",
       "#T_8f0cd_row3_col7, #T_8f0cd_row5_col7 {\n",
       "  background-color: #3f53c6;\n",
       "  color: #f1f1f1;\n",
       "}\n",
       "#T_8f0cd_row4_col0 {\n",
       "  background-color: #5f7fe8;\n",
       "  color: #f1f1f1;\n",
       "}\n",
       "#T_8f0cd_row4_col1 {\n",
       "  background-color: #6b8df0;\n",
       "  color: #f1f1f1;\n",
       "}\n",
       "#T_8f0cd_row4_col2 {\n",
       "  background-color: #6a8bef;\n",
       "  color: #f1f1f1;\n",
       "}\n",
       "#T_8f0cd_row4_col3 {\n",
       "  background-color: #adc9fd;\n",
       "  color: #000000;\n",
       "}\n",
       "#T_8f0cd_row4_col5 {\n",
       "  background-color: #f5c0a7;\n",
       "  color: #000000;\n",
       "}\n",
       "#T_8f0cd_row5_col1 {\n",
       "  background-color: #aac7fd;\n",
       "  color: #000000;\n",
       "}\n",
       "#T_8f0cd_row5_col2 {\n",
       "  background-color: #bad0f8;\n",
       "  color: #000000;\n",
       "}\n",
       "#T_8f0cd_row5_col4 {\n",
       "  background-color: #f6bfa6;\n",
       "  color: #000000;\n",
       "}\n",
       "#T_8f0cd_row5_col6, #T_8f0cd_row6_col5 {\n",
       "  background-color: #be242e;\n",
       "  color: #f1f1f1;\n",
       "}\n",
       "#T_8f0cd_row5_col8, #T_8f0cd_row6_col8 {\n",
       "  background-color: #4e68d8;\n",
       "  color: #f1f1f1;\n",
       "}\n",
       "#T_8f0cd_row6_col0 {\n",
       "  background-color: #e8d6cc;\n",
       "  color: #000000;\n",
       "}\n",
       "#T_8f0cd_row6_col1 {\n",
       "  background-color: #e1dad6;\n",
       "  color: #000000;\n",
       "}\n",
       "#T_8f0cd_row6_col4 {\n",
       "  background-color: #f2c9b4;\n",
       "  color: #000000;\n",
       "}\n",
       "#T_8f0cd_row6_col7 {\n",
       "  background-color: #4358cb;\n",
       "  color: #f1f1f1;\n",
       "}\n",
       "#T_8f0cd_row7_col0 {\n",
       "  background-color: #3c4ec2;\n",
       "  color: #f1f1f1;\n",
       "}\n",
       "#T_8f0cd_row7_col2 {\n",
       "  background-color: #3d50c3;\n",
       "  color: #f1f1f1;\n",
       "}\n",
       "#T_8f0cd_row7_col8, #T_8f0cd_row8_col7 {\n",
       "  background-color: #e57058;\n",
       "  color: #f1f1f1;\n",
       "}\n",
       "#T_8f0cd_row8_col3, #T_8f0cd_row8_col4 {\n",
       "  background-color: #485fd1;\n",
       "  color: #f1f1f1;\n",
       "}\n",
       "#T_8f0cd_row8_col6 {\n",
       "  background-color: #465ecf;\n",
       "  color: #f1f1f1;\n",
       "}\n",
       "</style>\n",
       "<table id=\"T_8f0cd_\">\n",
       "  <thead>\n",
       "    <tr>\n",
       "      <th class=\"blank level0\" >&nbsp;</th>\n",
       "      <th class=\"col_heading level0 col0\" >inCalls</th>\n",
       "      <th class=\"col_heading level0 col1\" >outCalls</th>\n",
       "      <th class=\"col_heading level0 col2\" >allCalls</th>\n",
       "      <th class=\"col_heading level0 col3\" >inText</th>\n",
       "      <th class=\"col_heading level0 col4\" >outText</th>\n",
       "      <th class=\"col_heading level0 col5\" >allText</th>\n",
       "      <th class=\"col_heading level0 col6\" >allLogs</th>\n",
       "      <th class=\"col_heading level0 col7\" >phq9</th>\n",
       "      <th class=\"col_heading level0 col8\" >gad7</th>\n",
       "    </tr>\n",
       "  </thead>\n",
       "  <tbody>\n",
       "    <tr>\n",
       "      <th id=\"T_8f0cd_level0_row0\" class=\"row_heading level0 row0\" >inCalls</th>\n",
       "      <td id=\"T_8f0cd_row0_col0\" class=\"data row0 col0\" >1.00</td>\n",
       "      <td id=\"T_8f0cd_row0_col1\" class=\"data row0 col1\" >0.63</td>\n",
       "      <td id=\"T_8f0cd_row0_col2\" class=\"data row0 col2\" >0.94</td>\n",
       "      <td id=\"T_8f0cd_row0_col3\" class=\"data row0 col3\" >0.39</td>\n",
       "      <td id=\"T_8f0cd_row0_col4\" class=\"data row0 col4\" >0.15</td>\n",
       "      <td id=\"T_8f0cd_row0_col5\" class=\"data row0 col5\" >0.37</td>\n",
       "      <td id=\"T_8f0cd_row0_col6\" class=\"data row0 col6\" >0.56</td>\n",
       "      <td id=\"T_8f0cd_row0_col7\" class=\"data row0 col7\" >0.05</td>\n",
       "      <td id=\"T_8f0cd_row0_col8\" class=\"data row0 col8\" >0.04</td>\n",
       "    </tr>\n",
       "    <tr>\n",
       "      <th id=\"T_8f0cd_level0_row1\" class=\"row_heading level0 row1\" >outCalls</th>\n",
       "      <td id=\"T_8f0cd_row1_col0\" class=\"data row1 col0\" >0.63</td>\n",
       "      <td id=\"T_8f0cd_row1_col1\" class=\"data row1 col1\" >1.00</td>\n",
       "      <td id=\"T_8f0cd_row1_col2\" class=\"data row1 col2\" >0.86</td>\n",
       "      <td id=\"T_8f0cd_row1_col3\" class=\"data row1 col3\" >0.38</td>\n",
       "      <td id=\"T_8f0cd_row1_col4\" class=\"data row1 col4\" >0.22</td>\n",
       "      <td id=\"T_8f0cd_row1_col5\" class=\"data row1 col5\" >0.38</td>\n",
       "      <td id=\"T_8f0cd_row1_col6\" class=\"data row1 col6\" >0.55</td>\n",
       "      <td id=\"T_8f0cd_row1_col7\" class=\"data row1 col7\" >0.09</td>\n",
       "      <td id=\"T_8f0cd_row1_col8\" class=\"data row1 col8\" >0.07</td>\n",
       "    </tr>\n",
       "    <tr>\n",
       "      <th id=\"T_8f0cd_level0_row2\" class=\"row_heading level0 row2\" >allCalls</th>\n",
       "      <td id=\"T_8f0cd_row2_col0\" class=\"data row2 col0\" >0.94</td>\n",
       "      <td id=\"T_8f0cd_row2_col1\" class=\"data row2 col1\" >0.86</td>\n",
       "      <td id=\"T_8f0cd_row2_col2\" class=\"data row2 col2\" >1.00</td>\n",
       "      <td id=\"T_8f0cd_row2_col3\" class=\"data row2 col3\" >0.42</td>\n",
       "      <td id=\"T_8f0cd_row2_col4\" class=\"data row2 col4\" >0.20</td>\n",
       "      <td id=\"T_8f0cd_row2_col5\" class=\"data row2 col5\" >0.42</td>\n",
       "      <td id=\"T_8f0cd_row2_col6\" class=\"data row2 col6\" >0.62</td>\n",
       "      <td id=\"T_8f0cd_row2_col7\" class=\"data row2 col7\" >0.07</td>\n",
       "      <td id=\"T_8f0cd_row2_col8\" class=\"data row2 col8\" >0.06</td>\n",
       "    </tr>\n",
       "    <tr>\n",
       "      <th id=\"T_8f0cd_level0_row3\" class=\"row_heading level0 row3\" >inText</th>\n",
       "      <td id=\"T_8f0cd_row3_col0\" class=\"data row3 col0\" >0.39</td>\n",
       "      <td id=\"T_8f0cd_row3_col1\" class=\"data row3 col1\" >0.38</td>\n",
       "      <td id=\"T_8f0cd_row3_col2\" class=\"data row3 col2\" >0.42</td>\n",
       "      <td id=\"T_8f0cd_row3_col3\" class=\"data row3 col3\" >1.00</td>\n",
       "      <td id=\"T_8f0cd_row3_col4\" class=\"data row3 col4\" >0.38</td>\n",
       "      <td id=\"T_8f0cd_row3_col5\" class=\"data row3 col5\" >0.95</td>\n",
       "      <td id=\"T_8f0cd_row3_col6\" class=\"data row3 col6\" >0.93</td>\n",
       "      <td id=\"T_8f0cd_row3_col7\" class=\"data row3 col7\" >0.05</td>\n",
       "      <td id=\"T_8f0cd_row3_col8\" class=\"data row3 col8\" >0.09</td>\n",
       "    </tr>\n",
       "    <tr>\n",
       "      <th id=\"T_8f0cd_level0_row4\" class=\"row_heading level0 row4\" >outText</th>\n",
       "      <td id=\"T_8f0cd_row4_col0\" class=\"data row4 col0\" >0.15</td>\n",
       "      <td id=\"T_8f0cd_row4_col1\" class=\"data row4 col1\" >0.22</td>\n",
       "      <td id=\"T_8f0cd_row4_col2\" class=\"data row4 col2\" >0.20</td>\n",
       "      <td id=\"T_8f0cd_row4_col3\" class=\"data row4 col3\" >0.38</td>\n",
       "      <td id=\"T_8f0cd_row4_col4\" class=\"data row4 col4\" >1.00</td>\n",
       "      <td id=\"T_8f0cd_row4_col5\" class=\"data row4 col5\" >0.66</td>\n",
       "      <td id=\"T_8f0cd_row4_col6\" class=\"data row4 col6\" >0.62</td>\n",
       "      <td id=\"T_8f0cd_row4_col7\" class=\"data row4 col7\" >0.03</td>\n",
       "      <td id=\"T_8f0cd_row4_col8\" class=\"data row4 col8\" >0.07</td>\n",
       "    </tr>\n",
       "    <tr>\n",
       "      <th id=\"T_8f0cd_level0_row5\" class=\"row_heading level0 row5\" >allText</th>\n",
       "      <td id=\"T_8f0cd_row5_col0\" class=\"data row5 col0\" >0.37</td>\n",
       "      <td id=\"T_8f0cd_row5_col1\" class=\"data row5 col1\" >0.38</td>\n",
       "      <td id=\"T_8f0cd_row5_col2\" class=\"data row5 col2\" >0.42</td>\n",
       "      <td id=\"T_8f0cd_row5_col3\" class=\"data row5 col3\" >0.95</td>\n",
       "      <td id=\"T_8f0cd_row5_col4\" class=\"data row5 col4\" >0.66</td>\n",
       "      <td id=\"T_8f0cd_row5_col5\" class=\"data row5 col5\" >1.00</td>\n",
       "      <td id=\"T_8f0cd_row5_col6\" class=\"data row5 col6\" >0.97</td>\n",
       "      <td id=\"T_8f0cd_row5_col7\" class=\"data row5 col7\" >0.05</td>\n",
       "      <td id=\"T_8f0cd_row5_col8\" class=\"data row5 col8\" >0.10</td>\n",
       "    </tr>\n",
       "    <tr>\n",
       "      <th id=\"T_8f0cd_level0_row6\" class=\"row_heading level0 row6\" >allLogs</th>\n",
       "      <td id=\"T_8f0cd_row6_col0\" class=\"data row6 col0\" >0.56</td>\n",
       "      <td id=\"T_8f0cd_row6_col1\" class=\"data row6 col1\" >0.55</td>\n",
       "      <td id=\"T_8f0cd_row6_col2\" class=\"data row6 col2\" >0.62</td>\n",
       "      <td id=\"T_8f0cd_row6_col3\" class=\"data row6 col3\" >0.93</td>\n",
       "      <td id=\"T_8f0cd_row6_col4\" class=\"data row6 col4\" >0.62</td>\n",
       "      <td id=\"T_8f0cd_row6_col5\" class=\"data row6 col5\" >0.97</td>\n",
       "      <td id=\"T_8f0cd_row6_col6\" class=\"data row6 col6\" >1.00</td>\n",
       "      <td id=\"T_8f0cd_row6_col7\" class=\"data row6 col7\" >0.06</td>\n",
       "      <td id=\"T_8f0cd_row6_col8\" class=\"data row6 col8\" >0.10</td>\n",
       "    </tr>\n",
       "    <tr>\n",
       "      <th id=\"T_8f0cd_level0_row7\" class=\"row_heading level0 row7\" >phq9</th>\n",
       "      <td id=\"T_8f0cd_row7_col0\" class=\"data row7 col0\" >0.05</td>\n",
       "      <td id=\"T_8f0cd_row7_col1\" class=\"data row7 col1\" >0.09</td>\n",
       "      <td id=\"T_8f0cd_row7_col2\" class=\"data row7 col2\" >0.07</td>\n",
       "      <td id=\"T_8f0cd_row7_col3\" class=\"data row7 col3\" >0.05</td>\n",
       "      <td id=\"T_8f0cd_row7_col4\" class=\"data row7 col4\" >0.03</td>\n",
       "      <td id=\"T_8f0cd_row7_col5\" class=\"data row7 col5\" >0.05</td>\n",
       "      <td id=\"T_8f0cd_row7_col6\" class=\"data row7 col6\" >0.06</td>\n",
       "      <td id=\"T_8f0cd_row7_col7\" class=\"data row7 col7\" >1.00</td>\n",
       "      <td id=\"T_8f0cd_row7_col8\" class=\"data row7 col8\" >0.85</td>\n",
       "    </tr>\n",
       "    <tr>\n",
       "      <th id=\"T_8f0cd_level0_row8\" class=\"row_heading level0 row8\" >gad7</th>\n",
       "      <td id=\"T_8f0cd_row8_col0\" class=\"data row8 col0\" >0.04</td>\n",
       "      <td id=\"T_8f0cd_row8_col1\" class=\"data row8 col1\" >0.07</td>\n",
       "      <td id=\"T_8f0cd_row8_col2\" class=\"data row8 col2\" >0.06</td>\n",
       "      <td id=\"T_8f0cd_row8_col3\" class=\"data row8 col3\" >0.09</td>\n",
       "      <td id=\"T_8f0cd_row8_col4\" class=\"data row8 col4\" >0.07</td>\n",
       "      <td id=\"T_8f0cd_row8_col5\" class=\"data row8 col5\" >0.10</td>\n",
       "      <td id=\"T_8f0cd_row8_col6\" class=\"data row8 col6\" >0.10</td>\n",
       "      <td id=\"T_8f0cd_row8_col7\" class=\"data row8 col7\" >0.85</td>\n",
       "      <td id=\"T_8f0cd_row8_col8\" class=\"data row8 col8\" >1.00</td>\n",
       "    </tr>\n",
       "  </tbody>\n",
       "</table>\n"
      ],
      "text/plain": [
       "<pandas.io.formats.style.Styler at 0x237994a33a0>"
      ]
     },
     "execution_count": 31,
     "metadata": {},
     "output_type": "execute_result"
    }
   ],
   "source": [
    "#this creates a correlation matrix from the data from the imported dataset \n",
    "corr = data1.corr()\n",
    "corr.style.background_gradient(cmap='coolwarm').set_precision(2)"
   ]
  },
  {
   "cell_type": "markdown",
   "metadata": {},
   "source": [
    "# What does the correlation plot indicate about the relationship between the features? Target variables (PHQ-9 and GAD-7)?\n",
    "#### The correlation table shows the different variables and how closely correlated that they are. The target variables of PHQ-9 and GAD-7 shows that there does seem to be a fairly strong correlation between the two variables, meaning that these two variables move together whether their data increases or decreases"
   ]
  },
  {
   "cell_type": "code",
   "execution_count": 20,
   "metadata": {},
   "outputs": [
    {
     "data": {
      "text/html": [
       "<div>\n",
       "<style scoped>\n",
       "    .dataframe tbody tr th:only-of-type {\n",
       "        vertical-align: middle;\n",
       "    }\n",
       "\n",
       "    .dataframe tbody tr th {\n",
       "        vertical-align: top;\n",
       "    }\n",
       "\n",
       "    .dataframe thead th {\n",
       "        text-align: right;\n",
       "    }\n",
       "</style>\n",
       "<table border=\"1\" class=\"dataframe\">\n",
       "  <thead>\n",
       "    <tr style=\"text-align: right;\">\n",
       "      <th></th>\n",
       "      <th>inTexts0_Absolute energy</th>\n",
       "      <th>inTexts0_Area under the curve</th>\n",
       "      <th>inTexts0_Autocorrelation</th>\n",
       "      <th>inTexts0_Centroid</th>\n",
       "      <th>inTexts0_ECDF Percentile Count_0</th>\n",
       "      <th>inTexts0_ECDF Percentile Count_1</th>\n",
       "      <th>inTexts0_ECDF Percentile_0</th>\n",
       "      <th>inTexts0_ECDF Percentile_1</th>\n",
       "      <th>inTexts0_ECDF_0</th>\n",
       "      <th>inTexts0_ECDF_1</th>\n",
       "      <th>...</th>\n",
       "      <th>outCalls0_Wavelet variance_0</th>\n",
       "      <th>outCalls0_Wavelet variance_1</th>\n",
       "      <th>outCalls0_Wavelet variance_2</th>\n",
       "      <th>outCalls0_Wavelet variance_3</th>\n",
       "      <th>outCalls0_Wavelet variance_4</th>\n",
       "      <th>outCalls0_Wavelet variance_5</th>\n",
       "      <th>outCalls0_Wavelet variance_6</th>\n",
       "      <th>outCalls0_Wavelet variance_7</th>\n",
       "      <th>outCalls0_Wavelet variance_8</th>\n",
       "      <th>outCalls0_Zero crossing rate</th>\n",
       "    </tr>\n",
       "  </thead>\n",
       "  <tbody>\n",
       "    <tr>\n",
       "      <th>0</th>\n",
       "      <td>9.0</td>\n",
       "      <td>0.015</td>\n",
       "      <td>9.0</td>\n",
       "      <td>0.000000</td>\n",
       "      <td>2.0</td>\n",
       "      <td>11.0</td>\n",
       "      <td>0.0</td>\n",
       "      <td>0.0</td>\n",
       "      <td>0.071429</td>\n",
       "      <td>0.142857</td>\n",
       "      <td>...</td>\n",
       "      <td>1044.461838</td>\n",
       "      <td>595.378697</td>\n",
       "      <td>459.477150</td>\n",
       "      <td>470.749139</td>\n",
       "      <td>418.339485</td>\n",
       "      <td>359.621089</td>\n",
       "      <td>313.628753</td>\n",
       "      <td>279.227008</td>\n",
       "      <td>252.763489</td>\n",
       "      <td>6.0</td>\n",
       "    </tr>\n",
       "    <tr>\n",
       "      <th>1</th>\n",
       "      <td>0.0</td>\n",
       "      <td>0.000</td>\n",
       "      <td>0.0</td>\n",
       "      <td>0.000000</td>\n",
       "      <td>0.0</td>\n",
       "      <td>0.0</td>\n",
       "      <td>0.0</td>\n",
       "      <td>0.0</td>\n",
       "      <td>0.071429</td>\n",
       "      <td>0.142857</td>\n",
       "      <td>...</td>\n",
       "      <td>107303.053660</td>\n",
       "      <td>87506.881312</td>\n",
       "      <td>71313.172411</td>\n",
       "      <td>36465.583963</td>\n",
       "      <td>17095.999871</td>\n",
       "      <td>9816.542806</td>\n",
       "      <td>7844.960672</td>\n",
       "      <td>7736.559582</td>\n",
       "      <td>8121.111828</td>\n",
       "      <td>4.0</td>\n",
       "    </tr>\n",
       "    <tr>\n",
       "      <th>2</th>\n",
       "      <td>3502.0</td>\n",
       "      <td>1.885</td>\n",
       "      <td>3502.0</td>\n",
       "      <td>0.052364</td>\n",
       "      <td>2.0</td>\n",
       "      <td>11.0</td>\n",
       "      <td>4.0</td>\n",
       "      <td>19.0</td>\n",
       "      <td>0.071429</td>\n",
       "      <td>0.142857</td>\n",
       "      <td>...</td>\n",
       "      <td>224107.095817</td>\n",
       "      <td>218449.207781</td>\n",
       "      <td>204709.752186</td>\n",
       "      <td>186733.562302</td>\n",
       "      <td>156745.895593</td>\n",
       "      <td>133391.876158</td>\n",
       "      <td>117398.100146</td>\n",
       "      <td>106005.951572</td>\n",
       "      <td>97271.892871</td>\n",
       "      <td>4.0</td>\n",
       "    </tr>\n",
       "    <tr>\n",
       "      <th>3</th>\n",
       "      <td>12330.0</td>\n",
       "      <td>3.380</td>\n",
       "      <td>12330.0</td>\n",
       "      <td>0.057781</td>\n",
       "      <td>2.0</td>\n",
       "      <td>11.0</td>\n",
       "      <td>4.0</td>\n",
       "      <td>35.0</td>\n",
       "      <td>0.071429</td>\n",
       "      <td>0.142857</td>\n",
       "      <td>...</td>\n",
       "      <td>53971.533653</td>\n",
       "      <td>50730.442089</td>\n",
       "      <td>41170.830053</td>\n",
       "      <td>29359.972379</td>\n",
       "      <td>20128.281500</td>\n",
       "      <td>15130.132857</td>\n",
       "      <td>12683.304503</td>\n",
       "      <td>11425.601575</td>\n",
       "      <td>10674.777554</td>\n",
       "      <td>8.0</td>\n",
       "    </tr>\n",
       "    <tr>\n",
       "      <th>4</th>\n",
       "      <td>860.0</td>\n",
       "      <td>0.845</td>\n",
       "      <td>860.0</td>\n",
       "      <td>0.055721</td>\n",
       "      <td>2.0</td>\n",
       "      <td>11.0</td>\n",
       "      <td>1.0</td>\n",
       "      <td>8.0</td>\n",
       "      <td>0.071429</td>\n",
       "      <td>0.142857</td>\n",
       "      <td>...</td>\n",
       "      <td>0.000000</td>\n",
       "      <td>0.000000</td>\n",
       "      <td>0.000000</td>\n",
       "      <td>0.000000</td>\n",
       "      <td>0.000000</td>\n",
       "      <td>0.000000</td>\n",
       "      <td>0.000000</td>\n",
       "      <td>0.000000</td>\n",
       "      <td>0.000000</td>\n",
       "      <td>0.0</td>\n",
       "    </tr>\n",
       "  </tbody>\n",
       "</table>\n",
       "<p>5 rows × 568 columns</p>\n",
       "</div>"
      ],
      "text/plain": [
       "   inTexts0_Absolute energy  inTexts0_Area under the curve  \\\n",
       "0                       9.0                          0.015   \n",
       "1                       0.0                          0.000   \n",
       "2                    3502.0                          1.885   \n",
       "3                   12330.0                          3.380   \n",
       "4                     860.0                          0.845   \n",
       "\n",
       "   inTexts0_Autocorrelation  inTexts0_Centroid  \\\n",
       "0                       9.0           0.000000   \n",
       "1                       0.0           0.000000   \n",
       "2                    3502.0           0.052364   \n",
       "3                   12330.0           0.057781   \n",
       "4                     860.0           0.055721   \n",
       "\n",
       "   inTexts0_ECDF Percentile Count_0  inTexts0_ECDF Percentile Count_1  \\\n",
       "0                               2.0                              11.0   \n",
       "1                               0.0                               0.0   \n",
       "2                               2.0                              11.0   \n",
       "3                               2.0                              11.0   \n",
       "4                               2.0                              11.0   \n",
       "\n",
       "   inTexts0_ECDF Percentile_0  inTexts0_ECDF Percentile_1  inTexts0_ECDF_0  \\\n",
       "0                         0.0                         0.0         0.071429   \n",
       "1                         0.0                         0.0         0.071429   \n",
       "2                         4.0                        19.0         0.071429   \n",
       "3                         4.0                        35.0         0.071429   \n",
       "4                         1.0                         8.0         0.071429   \n",
       "\n",
       "   inTexts0_ECDF_1  ...  outCalls0_Wavelet variance_0  \\\n",
       "0         0.142857  ...                   1044.461838   \n",
       "1         0.142857  ...                 107303.053660   \n",
       "2         0.142857  ...                 224107.095817   \n",
       "3         0.142857  ...                  53971.533653   \n",
       "4         0.142857  ...                      0.000000   \n",
       "\n",
       "   outCalls0_Wavelet variance_1  outCalls0_Wavelet variance_2  \\\n",
       "0                    595.378697                    459.477150   \n",
       "1                  87506.881312                  71313.172411   \n",
       "2                 218449.207781                 204709.752186   \n",
       "3                  50730.442089                  41170.830053   \n",
       "4                      0.000000                      0.000000   \n",
       "\n",
       "   outCalls0_Wavelet variance_3  outCalls0_Wavelet variance_4  \\\n",
       "0                    470.749139                    418.339485   \n",
       "1                  36465.583963                  17095.999871   \n",
       "2                 186733.562302                 156745.895593   \n",
       "3                  29359.972379                  20128.281500   \n",
       "4                      0.000000                      0.000000   \n",
       "\n",
       "   outCalls0_Wavelet variance_5  outCalls0_Wavelet variance_6  \\\n",
       "0                    359.621089                    313.628753   \n",
       "1                   9816.542806                   7844.960672   \n",
       "2                 133391.876158                 117398.100146   \n",
       "3                  15130.132857                  12683.304503   \n",
       "4                      0.000000                      0.000000   \n",
       "\n",
       "   outCalls0_Wavelet variance_7  outCalls0_Wavelet variance_8  \\\n",
       "0                    279.227008                    252.763489   \n",
       "1                   7736.559582                   8121.111828   \n",
       "2                 106005.951572                  97271.892871   \n",
       "3                  11425.601575                  10674.777554   \n",
       "4                      0.000000                      0.000000   \n",
       "\n",
       "   outCalls0_Zero crossing rate  \n",
       "0                           6.0  \n",
       "1                           4.0  \n",
       "2                           4.0  \n",
       "3                           8.0  \n",
       "4                           0.0  \n",
       "\n",
       "[5 rows x 568 columns]"
      ]
     },
     "execution_count": 20,
     "metadata": {},
     "output_type": "execute_result"
    }
   ],
   "source": [
    "features = data3[data3.columns[1:-2]]\n",
    "ids = data3[data3.columns[0:1]]\n",
    "targets = data3[data3.columns[-2:]]\n",
    "cnames = features.columns\n",
    "features.head()\n",
    "# this cell shows the pieces of data from the data set and prints them to a table in which the values of the feactures are \n",
    "# shown as the correlation, percentile, and varience"
   ]
  },
  {
   "cell_type": "code",
   "execution_count": 33,
   "metadata": {},
   "outputs": [
    {
     "data": {
      "text/html": [
       "<div>\n",
       "<style scoped>\n",
       "    .dataframe tbody tr th:only-of-type {\n",
       "        vertical-align: middle;\n",
       "    }\n",
       "\n",
       "    .dataframe tbody tr th {\n",
       "        vertical-align: top;\n",
       "    }\n",
       "\n",
       "    .dataframe thead th {\n",
       "        text-align: right;\n",
       "    }\n",
       "</style>\n",
       "<table border=\"1\" class=\"dataframe\">\n",
       "  <thead>\n",
       "    <tr style=\"text-align: right;\">\n",
       "      <th></th>\n",
       "      <th>inTexts0_Absolute energy</th>\n",
       "      <th>inTexts0_Area under the curve</th>\n",
       "      <th>inTexts0_Autocorrelation</th>\n",
       "      <th>inTexts0_Centroid</th>\n",
       "      <th>inTexts0_ECDF Percentile Count_0</th>\n",
       "      <th>inTexts0_ECDF Percentile Count_1</th>\n",
       "      <th>inTexts0_ECDF Percentile_0</th>\n",
       "      <th>inTexts0_ECDF Percentile_1</th>\n",
       "      <th>inTexts0_ECDF_0</th>\n",
       "      <th>inTexts0_ECDF_1</th>\n",
       "      <th>...</th>\n",
       "      <th>outCalls0_Wavelet variance_0</th>\n",
       "      <th>outCalls0_Wavelet variance_1</th>\n",
       "      <th>outCalls0_Wavelet variance_2</th>\n",
       "      <th>outCalls0_Wavelet variance_3</th>\n",
       "      <th>outCalls0_Wavelet variance_4</th>\n",
       "      <th>outCalls0_Wavelet variance_5</th>\n",
       "      <th>outCalls0_Wavelet variance_6</th>\n",
       "      <th>outCalls0_Wavelet variance_7</th>\n",
       "      <th>outCalls0_Wavelet variance_8</th>\n",
       "      <th>outCalls0_Zero crossing rate</th>\n",
       "    </tr>\n",
       "  </thead>\n",
       "  <tbody>\n",
       "    <tr>\n",
       "      <th>0</th>\n",
       "      <td>0.000045</td>\n",
       "      <td>0.001576</td>\n",
       "      <td>0.000045</td>\n",
       "      <td>0.000000</td>\n",
       "      <td>0.222222</td>\n",
       "      <td>1.0</td>\n",
       "      <td>0.000000</td>\n",
       "      <td>0.000</td>\n",
       "      <td>0.0</td>\n",
       "      <td>0.0</td>\n",
       "      <td>...</td>\n",
       "      <td>0.000029</td>\n",
       "      <td>0.000029</td>\n",
       "      <td>0.000031</td>\n",
       "      <td>0.000024</td>\n",
       "      <td>0.000019</td>\n",
       "      <td>0.000016</td>\n",
       "      <td>0.000014</td>\n",
       "      <td>0.000013</td>\n",
       "      <td>0.000013</td>\n",
       "      <td>0.6</td>\n",
       "    </tr>\n",
       "    <tr>\n",
       "      <th>1</th>\n",
       "      <td>0.000000</td>\n",
       "      <td>0.000000</td>\n",
       "      <td>0.000000</td>\n",
       "      <td>0.000000</td>\n",
       "      <td>0.000000</td>\n",
       "      <td>0.0</td>\n",
       "      <td>0.000000</td>\n",
       "      <td>0.000</td>\n",
       "      <td>0.0</td>\n",
       "      <td>0.0</td>\n",
       "      <td>...</td>\n",
       "      <td>0.002951</td>\n",
       "      <td>0.004306</td>\n",
       "      <td>0.004751</td>\n",
       "      <td>0.001856</td>\n",
       "      <td>0.000771</td>\n",
       "      <td>0.000436</td>\n",
       "      <td>0.000360</td>\n",
       "      <td>0.000374</td>\n",
       "      <td>0.000417</td>\n",
       "      <td>0.4</td>\n",
       "    </tr>\n",
       "    <tr>\n",
       "      <th>2</th>\n",
       "      <td>0.017641</td>\n",
       "      <td>0.198108</td>\n",
       "      <td>0.017641</td>\n",
       "      <td>0.434450</td>\n",
       "      <td>0.222222</td>\n",
       "      <td>1.0</td>\n",
       "      <td>0.095238</td>\n",
       "      <td>0.152</td>\n",
       "      <td>0.0</td>\n",
       "      <td>0.0</td>\n",
       "      <td>...</td>\n",
       "      <td>0.006162</td>\n",
       "      <td>0.010749</td>\n",
       "      <td>0.013638</td>\n",
       "      <td>0.009505</td>\n",
       "      <td>0.007069</td>\n",
       "      <td>0.005930</td>\n",
       "      <td>0.005387</td>\n",
       "      <td>0.005122</td>\n",
       "      <td>0.004989</td>\n",
       "      <td>0.4</td>\n",
       "    </tr>\n",
       "    <tr>\n",
       "      <th>3</th>\n",
       "      <td>0.062112</td>\n",
       "      <td>0.355229</td>\n",
       "      <td>0.062112</td>\n",
       "      <td>0.479390</td>\n",
       "      <td>0.222222</td>\n",
       "      <td>1.0</td>\n",
       "      <td>0.095238</td>\n",
       "      <td>0.280</td>\n",
       "      <td>0.0</td>\n",
       "      <td>0.0</td>\n",
       "      <td>...</td>\n",
       "      <td>0.001484</td>\n",
       "      <td>0.002496</td>\n",
       "      <td>0.002743</td>\n",
       "      <td>0.001495</td>\n",
       "      <td>0.000908</td>\n",
       "      <td>0.000673</td>\n",
       "      <td>0.000582</td>\n",
       "      <td>0.000552</td>\n",
       "      <td>0.000548</td>\n",
       "      <td>0.8</td>\n",
       "    </tr>\n",
       "    <tr>\n",
       "      <th>4</th>\n",
       "      <td>0.004332</td>\n",
       "      <td>0.088807</td>\n",
       "      <td>0.004332</td>\n",
       "      <td>0.462298</td>\n",
       "      <td>0.222222</td>\n",
       "      <td>1.0</td>\n",
       "      <td>0.023810</td>\n",
       "      <td>0.064</td>\n",
       "      <td>0.0</td>\n",
       "      <td>0.0</td>\n",
       "      <td>...</td>\n",
       "      <td>0.000000</td>\n",
       "      <td>0.000000</td>\n",
       "      <td>0.000000</td>\n",
       "      <td>0.000000</td>\n",
       "      <td>0.000000</td>\n",
       "      <td>0.000000</td>\n",
       "      <td>0.000000</td>\n",
       "      <td>0.000000</td>\n",
       "      <td>0.000000</td>\n",
       "      <td>0.0</td>\n",
       "    </tr>\n",
       "  </tbody>\n",
       "</table>\n",
       "<p>5 rows × 568 columns</p>\n",
       "</div>"
      ],
      "text/plain": [
       "   inTexts0_Absolute energy  inTexts0_Area under the curve  \\\n",
       "0                  0.000045                       0.001576   \n",
       "1                  0.000000                       0.000000   \n",
       "2                  0.017641                       0.198108   \n",
       "3                  0.062112                       0.355229   \n",
       "4                  0.004332                       0.088807   \n",
       "\n",
       "   inTexts0_Autocorrelation  inTexts0_Centroid  \\\n",
       "0                  0.000045           0.000000   \n",
       "1                  0.000000           0.000000   \n",
       "2                  0.017641           0.434450   \n",
       "3                  0.062112           0.479390   \n",
       "4                  0.004332           0.462298   \n",
       "\n",
       "   inTexts0_ECDF Percentile Count_0  inTexts0_ECDF Percentile Count_1  \\\n",
       "0                          0.222222                               1.0   \n",
       "1                          0.000000                               0.0   \n",
       "2                          0.222222                               1.0   \n",
       "3                          0.222222                               1.0   \n",
       "4                          0.222222                               1.0   \n",
       "\n",
       "   inTexts0_ECDF Percentile_0  inTexts0_ECDF Percentile_1  inTexts0_ECDF_0  \\\n",
       "0                    0.000000                       0.000              0.0   \n",
       "1                    0.000000                       0.000              0.0   \n",
       "2                    0.095238                       0.152              0.0   \n",
       "3                    0.095238                       0.280              0.0   \n",
       "4                    0.023810                       0.064              0.0   \n",
       "\n",
       "   inTexts0_ECDF_1  ...  outCalls0_Wavelet variance_0  \\\n",
       "0              0.0  ...                      0.000029   \n",
       "1              0.0  ...                      0.002951   \n",
       "2              0.0  ...                      0.006162   \n",
       "3              0.0  ...                      0.001484   \n",
       "4              0.0  ...                      0.000000   \n",
       "\n",
       "   outCalls0_Wavelet variance_1  outCalls0_Wavelet variance_2  \\\n",
       "0                      0.000029                      0.000031   \n",
       "1                      0.004306                      0.004751   \n",
       "2                      0.010749                      0.013638   \n",
       "3                      0.002496                      0.002743   \n",
       "4                      0.000000                      0.000000   \n",
       "\n",
       "   outCalls0_Wavelet variance_3  outCalls0_Wavelet variance_4  \\\n",
       "0                      0.000024                      0.000019   \n",
       "1                      0.001856                      0.000771   \n",
       "2                      0.009505                      0.007069   \n",
       "3                      0.001495                      0.000908   \n",
       "4                      0.000000                      0.000000   \n",
       "\n",
       "   outCalls0_Wavelet variance_5  outCalls0_Wavelet variance_6  \\\n",
       "0                      0.000016                      0.000014   \n",
       "1                      0.000436                      0.000360   \n",
       "2                      0.005930                      0.005387   \n",
       "3                      0.000673                      0.000582   \n",
       "4                      0.000000                      0.000000   \n",
       "\n",
       "   outCalls0_Wavelet variance_7  outCalls0_Wavelet variance_8  \\\n",
       "0                      0.000013                      0.000013   \n",
       "1                      0.000374                      0.000417   \n",
       "2                      0.005122                      0.004989   \n",
       "3                      0.000552                      0.000548   \n",
       "4                      0.000000                      0.000000   \n",
       "\n",
       "   outCalls0_Zero crossing rate  \n",
       "0                           0.6  \n",
       "1                           0.4  \n",
       "2                           0.4  \n",
       "3                           0.8  \n",
       "4                           0.0  \n",
       "\n",
       "[5 rows x 568 columns]"
      ]
     },
     "execution_count": 33,
     "metadata": {},
     "output_type": "execute_result"
    }
   ],
   "source": [
    "#normalize each feature between 0 and 1\n",
    "min_max_scaler = preprocessing.MinMaxScaler()\n",
    "np_scaled = min_max_scaler.fit_transform(features)\n",
    "sfeatures = pd.DataFrame(np_scaled, columns = cnames)\n",
    "sfeatures.head()\n",
    "# this cell of code takes the data from the cell above and normalizes each of the features between the value of 0 and 1"
   ]
  },
  {
   "cell_type": "code",
   "execution_count": 42,
   "metadata": {},
   "outputs": [
    {
     "data": {
      "text/html": [
       "<div>\n",
       "<style scoped>\n",
       "    .dataframe tbody tr th:only-of-type {\n",
       "        vertical-align: middle;\n",
       "    }\n",
       "\n",
       "    .dataframe tbody tr th {\n",
       "        vertical-align: top;\n",
       "    }\n",
       "\n",
       "    .dataframe thead th {\n",
       "        text-align: right;\n",
       "    }\n",
       "</style>\n",
       "<table border=\"1\" class=\"dataframe\">\n",
       "  <thead>\n",
       "    <tr style=\"text-align: right;\">\n",
       "      <th></th>\n",
       "      <th>PC0</th>\n",
       "      <th>PC1</th>\n",
       "      <th>PC2</th>\n",
       "      <th>PC3</th>\n",
       "    </tr>\n",
       "  </thead>\n",
       "  <tbody>\n",
       "    <tr>\n",
       "      <th>0</th>\n",
       "      <td>0.547126</td>\n",
       "      <td>-0.839965</td>\n",
       "      <td>-1.522538</td>\n",
       "      <td>-0.024520</td>\n",
       "    </tr>\n",
       "    <tr>\n",
       "      <th>1</th>\n",
       "      <td>0.620034</td>\n",
       "      <td>-1.350896</td>\n",
       "      <td>-2.202705</td>\n",
       "      <td>1.945004</td>\n",
       "    </tr>\n",
       "    <tr>\n",
       "      <th>2</th>\n",
       "      <td>1.016386</td>\n",
       "      <td>-1.132049</td>\n",
       "      <td>-0.038627</td>\n",
       "      <td>-0.895660</td>\n",
       "    </tr>\n",
       "    <tr>\n",
       "      <th>3</th>\n",
       "      <td>1.112085</td>\n",
       "      <td>-1.171040</td>\n",
       "      <td>0.189946</td>\n",
       "      <td>-1.467948</td>\n",
       "    </tr>\n",
       "    <tr>\n",
       "      <th>4</th>\n",
       "      <td>-3.474177</td>\n",
       "      <td>0.100178</td>\n",
       "      <td>1.198440</td>\n",
       "      <td>-0.677831</td>\n",
       "    </tr>\n",
       "  </tbody>\n",
       "</table>\n",
       "</div>"
      ],
      "text/plain": [
       "        PC0       PC1       PC2       PC3\n",
       "0  0.547126 -0.839965 -1.522538 -0.024520\n",
       "1  0.620034 -1.350896 -2.202705  1.945004\n",
       "2  1.016386 -1.132049 -0.038627 -0.895660\n",
       "3  1.112085 -1.171040  0.189946 -1.467948\n",
       "4 -3.474177  0.100178  1.198440 -0.677831"
      ]
     },
     "execution_count": 42,
     "metadata": {},
     "output_type": "execute_result"
    }
   ],
   "source": [
    "numberOfFeatures = 4\n",
    "pcnames = []\n",
    "for n in range(0, numberOfFeatures):\n",
    "    pcnames.append(\"PC\" + str(n))\n",
    "pca = PCA(n_components=numberOfFeatures)\n",
    "pca = pca.fit(sfeatures)\n",
    "X_pca = pca.transform(sfeatures)\n",
    "pcaDF = pd.DataFrame(X_pca, columns = pcnames)\n",
    "pcaDF.head()\n",
    "# this sets the number of features that are used by the pca  and creates dataframes and inputs them into a new fitted model\n",
    "#"
   ]
  },
  {
   "cell_type": "code",
   "execution_count": 43,
   "metadata": {},
   "outputs": [
    {
     "name": "stdout",
     "output_type": "stream",
     "text": [
      "[0.30028334 0.12899279 0.08451441 0.07264817]\n"
     ]
    },
    {
     "data": {
      "text/plain": [
       "[<matplotlib.lines.Line2D at 0x23797cac700>]"
      ]
     },
     "execution_count": 43,
     "metadata": {},
     "output_type": "execute_result"
    },
    {
     "data": {
      "image/png": "[encoded data removed]",
      "text/plain": [
       "<Figure size 432x288 with 1 Axes>"
      ]
     },
     "metadata": {
      "needs_background": "light"
     },
     "output_type": "display_data"
    }
   ],
   "source": [
    "var = pca.explained_variance_ratio_\n",
    "print(var)\n",
    "plt.plot(var)"
   ]
  },
  {
   "cell_type": "markdown",
   "metadata": {},
   "source": [
    "# How does var plot change when numberOfFeatures is higher? How many principal components should be used (the elbow)?\n",
    "###### The var plot changes in the number of components that it has and how far the graph is extended, the idieal prinicpal compoennts that should be used is somewhere between 2 and 4"
   ]
  },
  {
   "cell_type": "code",
   "execution_count": 48,
   "metadata": {},
   "outputs": [
    {
     "data": {
      "image/png": "[encoded data removed]",
      "text/plain": [
       "<Figure size 432x288 with 1 Axes>"
      ]
     },
     "metadata": {
      "needs_background": "light"
     },
     "output_type": "display_data"
    }
   ],
   "source": [
    "#creates a scatter plot from the the PCA dataframes that have been created \n",
    "plt.scatter(pcaDF['PC0'], pcaDF['PC1'], pcaDF['PC2'])\n",
    "plt.show()\n",
    "plt.close()"
   ]
  },
  {
   "cell_type": "code",
   "execution_count": 25,
   "metadata": {},
   "outputs": [
    {
     "name": "stdout",
     "output_type": "stream",
     "text": [
      "Index(['id', 'appVersion', 'PHQ - Q1', 'PHQ - Q2', 'PHQ - Q3', 'PHQ - Q4',\n",
      "       'PHQ - Q5', 'PHQ - Q6', 'PHQ - Q7', 'PHQ - Q8', 'PHQ - Q9',\n",
      "       'PHQ - Total', 'GAD - Q1', 'GAD - Q2', 'GAD - Q3', 'GAD - Q4',\n",
      "       'GAD - Q5', 'GAD - Q6', 'GAD - Q7', 'GAD - Total', 'Gender', 'Age',\n",
      "       'StudentStatus', 'PriorDepressionTreatment', 'Remote', 'COVID', 'Group',\n",
      "       'Timestamp', 'PC0', 'PC1', 'PC2', 'PC3'],\n",
      "      dtype='object')\n"
     ]
    },
    {
     "data": {
      "text/html": [
       "<div>\n",
       "<style scoped>\n",
       "    .dataframe tbody tr th:only-of-type {\n",
       "        vertical-align: middle;\n",
       "    }\n",
       "\n",
       "    .dataframe tbody tr th {\n",
       "        vertical-align: top;\n",
       "    }\n",
       "\n",
       "    .dataframe thead th {\n",
       "        text-align: right;\n",
       "    }\n",
       "</style>\n",
       "<table border=\"1\" class=\"dataframe\">\n",
       "  <thead>\n",
       "    <tr style=\"text-align: right;\">\n",
       "      <th></th>\n",
       "      <th>id</th>\n",
       "      <th>appVersion</th>\n",
       "      <th>PHQ - Q1</th>\n",
       "      <th>PHQ - Q2</th>\n",
       "      <th>PHQ - Q3</th>\n",
       "      <th>PHQ - Q4</th>\n",
       "      <th>PHQ - Q5</th>\n",
       "      <th>PHQ - Q6</th>\n",
       "      <th>PHQ - Q7</th>\n",
       "      <th>PHQ - Q8</th>\n",
       "      <th>...</th>\n",
       "      <th>StudentStatus</th>\n",
       "      <th>PriorDepressionTreatment</th>\n",
       "      <th>Remote</th>\n",
       "      <th>COVID</th>\n",
       "      <th>Group</th>\n",
       "      <th>Timestamp</th>\n",
       "      <th>PC0</th>\n",
       "      <th>PC1</th>\n",
       "      <th>PC2</th>\n",
       "      <th>PC3</th>\n",
       "    </tr>\n",
       "  </thead>\n",
       "  <tbody>\n",
       "    <tr>\n",
       "      <th>0</th>\n",
       "      <td>1MZ0A5PA6</td>\n",
       "      <td>stereotype threat</td>\n",
       "      <td>2</td>\n",
       "      <td>1</td>\n",
       "      <td>2</td>\n",
       "      <td>3</td>\n",
       "      <td>2</td>\n",
       "      <td>1</td>\n",
       "      <td>3</td>\n",
       "      <td>0</td>\n",
       "      <td>...</td>\n",
       "      <td>No &amp; I am not a student</td>\n",
       "      <td>Yes</td>\n",
       "      <td>Yes - Full Time</td>\n",
       "      <td>No\\/I don't know</td>\n",
       "      <td>White\\/Caucasian</td>\n",
       "      <td>\"2021-03-21 00:29:43.016253\"</td>\n",
       "      <td>1.942614</td>\n",
       "      <td>2.370818</td>\n",
       "      <td>0.747448</td>\n",
       "      <td>-0.060174</td>\n",
       "    </tr>\n",
       "    <tr>\n",
       "      <th>1</th>\n",
       "      <td>E7EEQIEOV</td>\n",
       "      <td>control</td>\n",
       "      <td>1</td>\n",
       "      <td>0</td>\n",
       "      <td>1</td>\n",
       "      <td>1</td>\n",
       "      <td>0</td>\n",
       "      <td>1</td>\n",
       "      <td>1</td>\n",
       "      <td>0</td>\n",
       "      <td>...</td>\n",
       "      <td>No &amp; I am not a student</td>\n",
       "      <td>Prefer not to answer</td>\n",
       "      <td>No - Not At All</td>\n",
       "      <td>Yes</td>\n",
       "      <td>White\\/Caucasian</td>\n",
       "      <td>\"2021-03-20 00:16:25.943488\"</td>\n",
       "      <td>1.532447</td>\n",
       "      <td>2.470979</td>\n",
       "      <td>-0.157607</td>\n",
       "      <td>-0.893477</td>\n",
       "    </tr>\n",
       "    <tr>\n",
       "      <th>2</th>\n",
       "      <td>IHNGBZ4G4</td>\n",
       "      <td>control</td>\n",
       "      <td>1</td>\n",
       "      <td>1</td>\n",
       "      <td>2</td>\n",
       "      <td>3</td>\n",
       "      <td>3</td>\n",
       "      <td>2</td>\n",
       "      <td>2</td>\n",
       "      <td>1</td>\n",
       "      <td>...</td>\n",
       "      <td>No &amp; I am not a student</td>\n",
       "      <td>Yes</td>\n",
       "      <td>No - Not At All</td>\n",
       "      <td>No\\/I don't know</td>\n",
       "      <td>White\\/Caucasian</td>\n",
       "      <td>\"2021-03-21 22:33:41.260353\"</td>\n",
       "      <td>-3.440833</td>\n",
       "      <td>-0.017133</td>\n",
       "      <td>1.601918</td>\n",
       "      <td>-0.759675</td>\n",
       "    </tr>\n",
       "    <tr>\n",
       "      <th>3</th>\n",
       "      <td>R8CI0EGMO</td>\n",
       "      <td>stereotype threat</td>\n",
       "      <td>1</td>\n",
       "      <td>2</td>\n",
       "      <td>3</td>\n",
       "      <td>2</td>\n",
       "      <td>2</td>\n",
       "      <td>3</td>\n",
       "      <td>3</td>\n",
       "      <td>0</td>\n",
       "      <td>...</td>\n",
       "      <td>No &amp; I am not a student</td>\n",
       "      <td>Yes</td>\n",
       "      <td>Yes - Full Time</td>\n",
       "      <td>No\\/I don't know</td>\n",
       "      <td>White\\/Caucasian</td>\n",
       "      <td>\"2021-03-20 05:03:37.222712\"</td>\n",
       "      <td>1.811053</td>\n",
       "      <td>-1.765097</td>\n",
       "      <td>1.415834</td>\n",
       "      <td>0.640169</td>\n",
       "    </tr>\n",
       "    <tr>\n",
       "      <th>4</th>\n",
       "      <td>FWJ1GB40T</td>\n",
       "      <td>control</td>\n",
       "      <td>2</td>\n",
       "      <td>2</td>\n",
       "      <td>2</td>\n",
       "      <td>3</td>\n",
       "      <td>1</td>\n",
       "      <td>2</td>\n",
       "      <td>3</td>\n",
       "      <td>1</td>\n",
       "      <td>...</td>\n",
       "      <td>Yes &amp; I am a undergrad student</td>\n",
       "      <td>Yes</td>\n",
       "      <td>No - Not At All</td>\n",
       "      <td>No\\/I don't know</td>\n",
       "      <td>White\\/Caucasian</td>\n",
       "      <td>\"2021-03-20 11:47:32.838462\"</td>\n",
       "      <td>1.027875</td>\n",
       "      <td>-1.168439</td>\n",
       "      <td>0.008723</td>\n",
       "      <td>0.119555</td>\n",
       "    </tr>\n",
       "  </tbody>\n",
       "</table>\n",
       "<p>5 rows × 32 columns</p>\n",
       "</div>"
      ],
      "text/plain": [
       "          id         appVersion  PHQ - Q1  PHQ - Q2  PHQ - Q3  PHQ - Q4  \\\n",
       "0  1MZ0A5PA6  stereotype threat         2         1         2         3   \n",
       "1  E7EEQIEOV            control         1         0         1         1   \n",
       "2  IHNGBZ4G4            control         1         1         2         3   \n",
       "3  R8CI0EGMO  stereotype threat         1         2         3         2   \n",
       "4  FWJ1GB40T            control         2         2         2         3   \n",
       "\n",
       "   PHQ - Q5  PHQ - Q6  PHQ - Q7  PHQ - Q8  ...  \\\n",
       "0         2         1         3         0  ...   \n",
       "1         0         1         1         0  ...   \n",
       "2         3         2         2         1  ...   \n",
       "3         2         3         3         0  ...   \n",
       "4         1         2         3         1  ...   \n",
       "\n",
       "                    StudentStatus  PriorDepressionTreatment           Remote  \\\n",
       "0         No & I am not a student                       Yes  Yes - Full Time   \n",
       "1         No & I am not a student      Prefer not to answer  No - Not At All   \n",
       "2         No & I am not a student                       Yes  No - Not At All   \n",
       "3         No & I am not a student                       Yes  Yes - Full Time   \n",
       "4  Yes & I am a undergrad student                       Yes  No - Not At All   \n",
       "\n",
       "              COVID             Group                     Timestamp       PC0  \\\n",
       "0  No\\/I don't know  White\\/Caucasian  \"2021-03-21 00:29:43.016253\"  1.942614   \n",
       "1               Yes  White\\/Caucasian  \"2021-03-20 00:16:25.943488\"  1.532447   \n",
       "2  No\\/I don't know  White\\/Caucasian  \"2021-03-21 22:33:41.260353\" -3.440833   \n",
       "3  No\\/I don't know  White\\/Caucasian  \"2021-03-20 05:03:37.222712\"  1.811053   \n",
       "4  No\\/I don't know  White\\/Caucasian  \"2021-03-20 11:47:32.838462\"  1.027875   \n",
       "\n",
       "        PC1       PC2       PC3  \n",
       "0  2.370818  0.747448 -0.060174  \n",
       "1  2.470979 -0.157607 -0.893477  \n",
       "2 -0.017133  1.601918 -0.759675  \n",
       "3 -1.765097  1.415834  0.640169  \n",
       "4 -1.168439  0.008723  0.119555  \n",
       "\n",
       "[5 rows x 32 columns]"
      ]
     },
     "execution_count": 25,
     "metadata": {},
     "output_type": "execute_result"
    }
   ],
   "source": [
    "pcaDF2 = pcaDF.assign(target = ids)\n",
    "pcnames2 = pcnames + [\"id\"]\n",
    "pcaDF2.columns = pcnames2\n",
    "newdf = data2.merge(pcaDF2, on = \"id\")\n",
    "print(newdf.columns)\n",
    "newdf.head()\n",
    "#shows an index of all of the features in the dataset, then shows the answers to the surveys on the PHQ and GAD, by\n",
    "# assigning tagets and ids with "
   ]
  },
  {
   "cell_type": "code",
   "execution_count": 49,
   "metadata": {},
   "outputs": [
    {
     "data": {
      "image/png": "[encoded data removed]",
      "text/plain": [
       "<Figure size 432x288 with 1 Axes>"
      ]
     },
     "metadata": {
      "needs_background": "light"
     },
     "output_type": "display_data"
    },
    {
     "data": {
      "image/png": "[encoded data removed]",
      "text/plain": [
       "<Figure size 432x288 with 1 Axes>"
      ]
     },
     "metadata": {
      "needs_background": "light"
     },
     "output_type": "display_data"
    }
   ],
   "source": [
    "v3 = \"PHQ - Total\"\n",
    "newdf1 = newdf[newdf[v3] >= 10]\n",
    "newdf2 = newdf[newdf[v3] < 10]\n",
    "#blue positive \n",
    "#orange negative\n",
    "plt.scatter(newdf1['PC0'], newdf1['PC1'], alpha = 0.5, label = \"Positive\")\n",
    "plt.scatter(newdf2['PC0'], newdf2['PC1'], alpha = 0.5, label = \"Negative\")\n",
    "plt.title(\"Clusters with \" + v3 + \" Scores\")\n",
    "plt.show()\n",
    "plt.close()\n",
    "\n",
    "v3 = \"GAD - Total\"\n",
    "newdf1 = newdf[newdf[v3] >= 10]\n",
    "newdf2 = newdf[newdf[v3] < 10]\n",
    "\n",
    "plt.scatter(newdf1['PC0'], newdf1['PC1'], alpha = 0.5)\n",
    "plt.scatter(newdf2['PC0'], newdf2['PC1'], alpha = 0.5)\n",
    "plt.title(\"Clusters with \" + v3 + \" Scores\")\n",
    "plt.show()\n",
    "plt.close()\n",
    "#shows the different plots of clusters based on what features of the survey are being used in this case it show PHQ totals \n",
    "# and the GAD totals"
   ]
  },
  {
   "cell_type": "code",
   "execution_count": 56,
   "metadata": {},
   "outputs": [
    {
     "data": {
      "text/html": [
       "<div>\n",
       "<style scoped>\n",
       "    .dataframe tbody tr th:only-of-type {\n",
       "        vertical-align: middle;\n",
       "    }\n",
       "\n",
       "    .dataframe tbody tr th {\n",
       "        vertical-align: top;\n",
       "    }\n",
       "\n",
       "    .dataframe thead th {\n",
       "        text-align: right;\n",
       "    }\n",
       "</style>\n",
       "<table border=\"1\" class=\"dataframe\">\n",
       "  <thead>\n",
       "    <tr style=\"text-align: right;\">\n",
       "      <th></th>\n",
       "      <th>PC0</th>\n",
       "      <th>PC1</th>\n",
       "      <th>PC2</th>\n",
       "      <th>PC3</th>\n",
       "      <th>cluster</th>\n",
       "    </tr>\n",
       "  </thead>\n",
       "  <tbody>\n",
       "    <tr>\n",
       "      <th>0</th>\n",
       "      <td>0.547126</td>\n",
       "      <td>-0.839965</td>\n",
       "      <td>-1.522538</td>\n",
       "      <td>-0.024520</td>\n",
       "      <td>0</td>\n",
       "    </tr>\n",
       "    <tr>\n",
       "      <th>1</th>\n",
       "      <td>0.620034</td>\n",
       "      <td>-1.350896</td>\n",
       "      <td>-2.202705</td>\n",
       "      <td>1.945004</td>\n",
       "      <td>0</td>\n",
       "    </tr>\n",
       "    <tr>\n",
       "      <th>2</th>\n",
       "      <td>1.016386</td>\n",
       "      <td>-1.132049</td>\n",
       "      <td>-0.038627</td>\n",
       "      <td>-0.895660</td>\n",
       "      <td>0</td>\n",
       "    </tr>\n",
       "    <tr>\n",
       "      <th>3</th>\n",
       "      <td>1.112085</td>\n",
       "      <td>-1.171040</td>\n",
       "      <td>0.189946</td>\n",
       "      <td>-1.467948</td>\n",
       "      <td>0</td>\n",
       "    </tr>\n",
       "    <tr>\n",
       "      <th>4</th>\n",
       "      <td>-3.474177</td>\n",
       "      <td>0.100178</td>\n",
       "      <td>1.198440</td>\n",
       "      <td>-0.677831</td>\n",
       "      <td>1</td>\n",
       "    </tr>\n",
       "  </tbody>\n",
       "</table>\n",
       "</div>"
      ],
      "text/plain": [
       "        PC0       PC1       PC2       PC3  cluster\n",
       "0  0.547126 -0.839965 -1.522538 -0.024520        0\n",
       "1  0.620034 -1.350896 -2.202705  1.945004        0\n",
       "2  1.016386 -1.132049 -0.038627 -0.895660        0\n",
       "3  1.112085 -1.171040  0.189946 -1.467948        0\n",
       "4 -3.474177  0.100178  1.198440 -0.677831        1"
      ]
     },
     "execution_count": 56,
     "metadata": {},
     "output_type": "execute_result"
    }
   ],
   "source": [
    "pcaDFk = pcaDF\n",
    "k = 4\n",
    "kmeans = KMeans(n_clusters=k, random_state=0).fit(pcaDFk)\n",
    "cs = kmeans.labels_\n",
    "pcaDFk[\"cluster\"] = cs\n",
    "pcaDFk.head()\n",
    "#creates the clusters using KMeans analysis "
   ]
  },
  {
   "cell_type": "markdown",
   "metadata": {},
   "source": [
    "## What percent of variance in the data is covered by the first principal component? Tenth principal component?\n",
    "#### about fifty percent for the first principal component and about seventy percent for the tenth principal component"
   ]
  },
  {
   "cell_type": "code",
   "execution_count": 59,
   "metadata": {},
   "outputs": [
    {
     "name": "stdout",
     "output_type": "stream",
     "text": [
      "(112, 5)\n",
      "(92, 5)\n",
      "(93, 5)\n"
     ]
    }
   ],
   "source": [
    "c0 = pcaDFk[pcaDFk[\"cluster\"] == 0]\n",
    "print(c0.shape)\n",
    "c1 = pcaDFk[pcaDFk[\"cluster\"] == 1]\n",
    "print(c1.shape)\n",
    "c2 = pcaDFk[pcaDFk[\"cluster\"] == 2]\n",
    "print(c2.shape)\n",
    "#sets the shapes of the different clusters "
   ]
  },
  {
   "cell_type": "code",
   "execution_count": 61,
   "metadata": {},
   "outputs": [
    {
     "data": {
      "image/png": "[encoded data removed]",
      "text/plain": [
       "<Figure size 432x288 with 1 Axes>"
      ]
     },
     "metadata": {
      "needs_background": "light"
     },
     "output_type": "display_data"
    }
   ],
   "source": [
    "plt.figure()\n",
    "plt.scatter(c0[\"PC0\"], c0[\"PC1\"])\n",
    "plt.scatter(c1[\"PC0\"], c1[\"PC1\"])\n",
    "plt.scatter(c2[\"PC0\"], c2[\"PC1\"])\n",
    "plt.xlabel(\"PC0\")\n",
    "plt.ylabel(\"PC1\")\n",
    "plt.show()\n",
    "plt.close()\n",
    "#plots the  data into their designated clusters"
   ]
  },
  {
   "cell_type": "markdown",
   "metadata": {},
   "source": [
    "## Visually, how many clusters exist when plotting the first two principal components? Update number of clusters k accordingly\n",
    "#### there are only three clusters when using the first two principle components "
   ]
  },
  {
   "cell_type": "markdown",
   "metadata": {},
   "source": [
    "## Instead of PHQ-9 and GAD-7 scores, try plotting some different survey features v3. Do they match the clusters?\n",
    "#### the clusters are almost identicle"
   ]
  },
  {
   "cell_type": "code",
   "execution_count": 67,
   "metadata": {},
   "outputs": [
    {
     "data": {
      "image/png": "[encoded data removed]",
      "text/plain": [
       "<Figure size 432x288 with 1 Axes>"
      ]
     },
     "metadata": {
      "needs_background": "light"
     },
     "output_type": "display_data"
    },
    {
     "data": {
      "image/png": "[encoded data removed]",
      "text/plain": [
       "<Figure size 432x288 with 1 Axes>"
      ]
     },
     "metadata": {
      "needs_background": "light"
     },
     "output_type": "display_data"
    }
   ],
   "source": [
    "v3 = \"PHQ - Q1\"\n",
    "newdf1 = newdf[newdf[v3] >= 1]\n",
    "newdf2 = newdf[newdf[v3] < 1]\n",
    "#blue positive \n",
    "#orange negative\n",
    "plt.scatter(newdf1['PC0'], newdf1['PC1'], alpha = 0.5, label = \"Positive\")\n",
    "plt.scatter(newdf2['PC0'], newdf2['PC1'], alpha = 0.5, label = \"Negative\")\n",
    "plt.title(\"Clusters with \" + v3 + \" Scores\")\n",
    "plt.show()\n",
    "plt.close()\n",
    "\n",
    "v3 = \"GAD - Q1\"\n",
    "newdf1 = newdf[newdf[v3] >= 1]\n",
    "newdf2 = newdf[newdf[v3] < 1]\n",
    "\n",
    "plt.scatter(newdf1['PC0'], newdf1['PC1'], alpha = 0.5)\n",
    "plt.scatter(newdf2['PC0'], newdf2['PC1'], alpha = 0.5)\n",
    "plt.title(\"Clusters with \" + v3 + \" Scores\")\n",
    "plt.show()\n",
    "plt.close()"
   ]
  },
  {
   "cell_type": "markdown",
   "metadata": {},
   "source": [
    "## What domain-based conclusions can be drawn from clustering the first two principal components?\n",
    "#### When plotting the first two principal components the conclusion that can be drawn is that the clusters seem to follow the same patterns through different variables, when looking at the different models they seem to follow the same pattern even though there are different variables being used"
   ]
  }
 ],
 "metadata": {
  "kernelspec": {
   "display_name": "Python 3 (ipykernel)",
   "language": "python",
   "name": "python3"
  },
  "language_info": {
   "codemirror_mode": {
    "name": "ipython",
    "version": 3
   },
   "file_extension": ".py",
   "mimetype": "text/x-python",
   "name": "python",
   "nbconvert_exporter": "python",
   "pygments_lexer": "ipython3",
   "version": "3.8.8"
  }
 },
 "nbformat": 4,
 "nbformat_minor": 4
}
