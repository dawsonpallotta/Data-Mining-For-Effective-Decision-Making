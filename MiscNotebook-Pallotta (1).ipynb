{
 "cells": [
  {
   "cell_type": "markdown",
   "id": "ccedd6f9",
   "metadata": {},
   "source": [
    "# Update filename and headers\n",
    "\n",
    "and add markdown cell explanations and in-code comments as needed"
   ]
  },
  {
   "cell_type": "code",
   "execution_count": 1,
   "id": "2c003892",
   "metadata": {},
   "outputs": [],
   "source": [
    "#impots all packages\n",
    "import pandas as pd\n",
    "import numpy as np\n",
    "import matplotlib.pyplot as plt\n",
    "from sklearn.model_selection import train_test_split\n",
    "from sklearn import preprocessing\n",
    "from sklearn.decomposition import PCA\n",
    "from sklearn.utils import resample\n",
    "from sklearn.neighbors import KNeighborsClassifier\n",
    "from sklearn.linear_model import LogisticRegression\n",
    "from sklearn.ensemble import RandomForestClassifier\n",
    "from sklearn import svm\n",
    "from sklearn.metrics import confusion_matrix\n",
    "from sklearn import tree\n",
    "import xgboost as xgb\n",
    "from sklearn.ensemble import AdaBoostClassifier\n",
    "from sklearn.linear_model import LinearRegression\n",
    "from sklearn.model_selection import cross_val_score\n",
    "from sklearn.tree import DecisionTreeRegressor\n",
    "from sklearn.feature_selection import SelectKBest, chi2"
   ]
  },
  {
   "cell_type": "code",
   "execution_count": 2,
   "id": "3acad175",
   "metadata": {},
   "outputs": [
    {
     "name": "stdout",
     "output_type": "stream",
     "text": [
      "(114, 199)\n",
      "(114, 6251)\n"
     ]
    }
   ],
   "source": [
    "#reads the csv \n",
    "df1 = pd.read_csv(\"C:/Users/student/Data Minning/featuresDefault.csv\") \n",
    "df2 = pd.read_csv(\"C:/Users/student/Data Minning/BOW.csv\")\n",
    "print(df1.shape)\n",
    "print(df2.shape)"
   ]
  },
  {
   "cell_type": "code",
   "execution_count": 3,
   "id": "dc5dc1ec",
   "metadata": {},
   "outputs": [
    {
     "data": {
      "text/html": [
       "<div>\n",
       "<style scoped>\n",
       "    .dataframe tbody tr th:only-of-type {\n",
       "        vertical-align: middle;\n",
       "    }\n",
       "\n",
       "    .dataframe tbody tr th {\n",
       "        vertical-align: top;\n",
       "    }\n",
       "\n",
       "    .dataframe thead th {\n",
       "        text-align: right;\n",
       "    }\n",
       "</style>\n",
       "<table border=\"1\" class=\"dataframe\">\n",
       "  <thead>\n",
       "    <tr style=\"text-align: right;\">\n",
       "      <th></th>\n",
       "      <th>id</th>\n",
       "      <th>phq9</th>\n",
       "      <th>NumTexts</th>\n",
       "      <th>help</th>\n",
       "      <th>office</th>\n",
       "      <th>dance</th>\n",
       "      <th>money</th>\n",
       "      <th>wedding</th>\n",
       "      <th>domestic_work</th>\n",
       "      <th>sleep</th>\n",
       "      <th>...</th>\n",
       "      <th>monster</th>\n",
       "      <th>ocean</th>\n",
       "      <th>giving</th>\n",
       "      <th>contentment</th>\n",
       "      <th>writing</th>\n",
       "      <th>rural</th>\n",
       "      <th>positive_emotion</th>\n",
       "      <th>musical</th>\n",
       "      <th>colors</th>\n",
       "      <th>text_abbreviations</th>\n",
       "    </tr>\n",
       "  </thead>\n",
       "  <tbody>\n",
       "    <tr>\n",
       "      <th>0</th>\n",
       "      <td>e122</td>\n",
       "      <td>7</td>\n",
       "      <td>2</td>\n",
       "      <td>0.0</td>\n",
       "      <td>0.0</td>\n",
       "      <td>0.0</td>\n",
       "      <td>0.0</td>\n",
       "      <td>0.0</td>\n",
       "      <td>0.0</td>\n",
       "      <td>0.0</td>\n",
       "      <td>...</td>\n",
       "      <td>0.0</td>\n",
       "      <td>0.0</td>\n",
       "      <td>0.0</td>\n",
       "      <td>0.0</td>\n",
       "      <td>0.0</td>\n",
       "      <td>0.0</td>\n",
       "      <td>0.0</td>\n",
       "      <td>0.0</td>\n",
       "      <td>0.0</td>\n",
       "      <td>0.0</td>\n",
       "    </tr>\n",
       "  </tbody>\n",
       "</table>\n",
       "<p>1 rows × 199 columns</p>\n",
       "</div>"
      ],
      "text/plain": [
       "     id  phq9  NumTexts  help  office  dance  money  wedding  domestic_work  \\\n",
       "0  e122     7         2   0.0     0.0    0.0    0.0      0.0            0.0   \n",
       "\n",
       "   sleep  ...  monster  ocean  giving  contentment  writing  rural  \\\n",
       "0    0.0  ...      0.0    0.0     0.0          0.0      0.0    0.0   \n",
       "\n",
       "   positive_emotion  musical  colors  text_abbreviations  \n",
       "0               0.0      0.0     0.0                 0.0  \n",
       "\n",
       "[1 rows x 199 columns]"
      ]
     },
     "execution_count": 3,
     "metadata": {},
     "output_type": "execute_result"
    }
   ],
   "source": [
    "df1.head(1)"
   ]
  },
  {
   "cell_type": "code",
   "execution_count": 4,
   "id": "ae1f59cc",
   "metadata": {},
   "outputs": [
    {
     "data": {
      "text/html": [
       "<div>\n",
       "<style scoped>\n",
       "    .dataframe tbody tr th:only-of-type {\n",
       "        vertical-align: middle;\n",
       "    }\n",
       "\n",
       "    .dataframe tbody tr th {\n",
       "        vertical-align: top;\n",
       "    }\n",
       "\n",
       "    .dataframe thead th {\n",
       "        text-align: right;\n",
       "    }\n",
       "</style>\n",
       "<table border=\"1\" class=\"dataframe\">\n",
       "  <thead>\n",
       "    <tr style=\"text-align: right;\">\n",
       "      <th></th>\n",
       "      <th>id</th>\n",
       "      <th>phq9</th>\n",
       "      <th>NumTexts</th>\n",
       "      <th>a12179c</th>\n",
       "      <th>a26m</th>\n",
       "      <th>a26w</th>\n",
       "      <th>aa</th>\n",
       "      <th>aaaaaaand</th>\n",
       "      <th>aaaaw</th>\n",
       "      <th>aaapo</th>\n",
       "      <th>...</th>\n",
       "      <th>zeke</th>\n",
       "      <th>zero</th>\n",
       "      <th>zerodha</th>\n",
       "      <th>zillow</th>\n",
       "      <th>zindegi</th>\n",
       "      <th>zoey</th>\n",
       "      <th>zone</th>\n",
       "      <th>zones</th>\n",
       "      <th>zoology</th>\n",
       "      <th>zuri</th>\n",
       "    </tr>\n",
       "  </thead>\n",
       "  <tbody>\n",
       "    <tr>\n",
       "      <th>0</th>\n",
       "      <td>e122</td>\n",
       "      <td>7</td>\n",
       "      <td>2</td>\n",
       "      <td>0</td>\n",
       "      <td>0</td>\n",
       "      <td>0</td>\n",
       "      <td>0</td>\n",
       "      <td>0</td>\n",
       "      <td>0</td>\n",
       "      <td>0</td>\n",
       "      <td>...</td>\n",
       "      <td>0</td>\n",
       "      <td>0</td>\n",
       "      <td>0</td>\n",
       "      <td>0</td>\n",
       "      <td>0</td>\n",
       "      <td>0</td>\n",
       "      <td>0</td>\n",
       "      <td>0</td>\n",
       "      <td>0</td>\n",
       "      <td>0</td>\n",
       "    </tr>\n",
       "    <tr>\n",
       "      <th>1</th>\n",
       "      <td>e1526</td>\n",
       "      <td>20</td>\n",
       "      <td>8</td>\n",
       "      <td>0</td>\n",
       "      <td>0</td>\n",
       "      <td>0</td>\n",
       "      <td>0</td>\n",
       "      <td>0</td>\n",
       "      <td>0</td>\n",
       "      <td>0</td>\n",
       "      <td>...</td>\n",
       "      <td>0</td>\n",
       "      <td>0</td>\n",
       "      <td>0</td>\n",
       "      <td>0</td>\n",
       "      <td>0</td>\n",
       "      <td>0</td>\n",
       "      <td>0</td>\n",
       "      <td>0</td>\n",
       "      <td>0</td>\n",
       "      <td>0</td>\n",
       "    </tr>\n",
       "  </tbody>\n",
       "</table>\n",
       "<p>2 rows × 6251 columns</p>\n",
       "</div>"
      ],
      "text/plain": [
       "      id  phq9  NumTexts  a12179c  a26m  a26w  aa  aaaaaaand  aaaaw  aaapo  \\\n",
       "0   e122     7         2        0     0     0   0          0      0      0   \n",
       "1  e1526    20         8        0     0     0   0          0      0      0   \n",
       "\n",
       "   ...  zeke  zero  zerodha  zillow  zindegi  zoey  zone  zones  zoology  zuri  \n",
       "0  ...     0     0        0       0        0     0     0      0        0     0  \n",
       "1  ...     0     0        0       0        0     0     0      0        0     0  \n",
       "\n",
       "[2 rows x 6251 columns]"
      ]
     },
     "execution_count": 4,
     "metadata": {},
     "output_type": "execute_result"
    }
   ],
   "source": [
    "df2.head(2)"
   ]
  },
  {
   "cell_type": "markdown",
   "id": "f5925e4d",
   "metadata": {},
   "source": [
    "## Part 1: Classification with Feature Selection"
   ]
  },
  {
   "cell_type": "code",
   "execution_count": 5,
   "id": "b5be2a9d",
   "metadata": {},
   "outputs": [],
   "source": [
    "#### THIS IS THE ONLY CODE YOU NEED TO CHANGE IN THIS PORTION OF THE LAB #########\n",
    "#sets the split and number of features to be used\n",
    "split = 20\n",
    "numberOfFeatures = 10"
   ]
  },
  {
   "cell_type": "code",
   "execution_count": 23,
   "id": "c372cf0f",
   "metadata": {},
   "outputs": [
    {
     "data": {
      "text/html": [
       "<div>\n",
       "<style scoped>\n",
       "    .dataframe tbody tr th:only-of-type {\n",
       "        vertical-align: middle;\n",
       "    }\n",
       "\n",
       "    .dataframe tbody tr th {\n",
       "        vertical-align: top;\n",
       "    }\n",
       "\n",
       "    .dataframe thead th {\n",
       "        text-align: right;\n",
       "    }\n",
       "</style>\n",
       "<table border=\"1\" class=\"dataframe\">\n",
       "  <thead>\n",
       "    <tr style=\"text-align: right;\">\n",
       "      <th></th>\n",
       "      <th>horror</th>\n",
       "      <th>suffering</th>\n",
       "      <th>ridicule</th>\n",
       "      <th>independence</th>\n",
       "      <th>dominant_heirarchical</th>\n",
       "      <th>youth</th>\n",
       "      <th>torment</th>\n",
       "      <th>politics</th>\n",
       "      <th>poor</th>\n",
       "      <th>timidity</th>\n",
       "      <th>target</th>\n",
       "    </tr>\n",
       "  </thead>\n",
       "  <tbody>\n",
       "    <tr>\n",
       "      <th>0</th>\n",
       "      <td>0.0</td>\n",
       "      <td>0.000000</td>\n",
       "      <td>0.0</td>\n",
       "      <td>0.0</td>\n",
       "      <td>0.0</td>\n",
       "      <td>0.000000</td>\n",
       "      <td>0.0</td>\n",
       "      <td>0.0</td>\n",
       "      <td>0.000000</td>\n",
       "      <td>0.0</td>\n",
       "      <td>0</td>\n",
       "    </tr>\n",
       "    <tr>\n",
       "      <th>1</th>\n",
       "      <td>0.0</td>\n",
       "      <td>0.000000</td>\n",
       "      <td>0.0</td>\n",
       "      <td>0.0</td>\n",
       "      <td>0.0</td>\n",
       "      <td>0.000000</td>\n",
       "      <td>0.0</td>\n",
       "      <td>0.0</td>\n",
       "      <td>0.000000</td>\n",
       "      <td>0.0</td>\n",
       "      <td>1</td>\n",
       "    </tr>\n",
       "    <tr>\n",
       "      <th>2</th>\n",
       "      <td>0.0</td>\n",
       "      <td>0.000000</td>\n",
       "      <td>0.0</td>\n",
       "      <td>0.0</td>\n",
       "      <td>0.0</td>\n",
       "      <td>0.038175</td>\n",
       "      <td>0.0</td>\n",
       "      <td>0.0</td>\n",
       "      <td>0.000000</td>\n",
       "      <td>0.0</td>\n",
       "      <td>0</td>\n",
       "    </tr>\n",
       "    <tr>\n",
       "      <th>3</th>\n",
       "      <td>0.0</td>\n",
       "      <td>0.032787</td>\n",
       "      <td>0.0</td>\n",
       "      <td>0.0</td>\n",
       "      <td>0.0</td>\n",
       "      <td>0.000000</td>\n",
       "      <td>0.0</td>\n",
       "      <td>0.0</td>\n",
       "      <td>0.196721</td>\n",
       "      <td>0.0</td>\n",
       "      <td>0</td>\n",
       "    </tr>\n",
       "    <tr>\n",
       "      <th>4</th>\n",
       "      <td>0.0</td>\n",
       "      <td>0.000000</td>\n",
       "      <td>0.0</td>\n",
       "      <td>0.0</td>\n",
       "      <td>0.0</td>\n",
       "      <td>0.000000</td>\n",
       "      <td>0.0</td>\n",
       "      <td>0.0</td>\n",
       "      <td>0.000000</td>\n",
       "      <td>0.0</td>\n",
       "      <td>0</td>\n",
       "    </tr>\n",
       "  </tbody>\n",
       "</table>\n",
       "</div>"
      ],
      "text/plain": [
       "   horror  suffering  ridicule  independence  dominant_heirarchical     youth  \\\n",
       "0     0.0   0.000000       0.0           0.0                    0.0  0.000000   \n",
       "1     0.0   0.000000       0.0           0.0                    0.0  0.000000   \n",
       "2     0.0   0.000000       0.0           0.0                    0.0  0.038175   \n",
       "3     0.0   0.032787       0.0           0.0                    0.0  0.000000   \n",
       "4     0.0   0.000000       0.0           0.0                    0.0  0.000000   \n",
       "\n",
       "   torment  politics      poor  timidity  target  \n",
       "0      0.0       0.0  0.000000       0.0       0  \n",
       "1      0.0       0.0  0.000000       0.0       1  \n",
       "2      0.0       0.0  0.000000       0.0       0  \n",
       "3      0.0       0.0  0.196721       0.0       0  \n",
       "4      0.0       0.0  0.000000       0.0       0  "
      ]
     },
     "execution_count": 23,
     "metadata": {},
     "output_type": "execute_result"
    }
   ],
   "source": [
    "#appends the featuresDefault dataset for the target features\n",
    "data = df1[:]\n",
    "\n",
    "data[data.columns[1]] = np.where(data[data.columns[1]] >= split, 1, 0)\n",
    "features = data[data.columns[2:]]\n",
    "target = data[data.columns[1]]\n",
    "min_max_scaler = preprocessing.MinMaxScaler()                   #NEED TO SCALE BEFORE FEATURE SELECTION!\n",
    "np_scaled = min_max_scaler.fit_transform(features)\n",
    "featureSubset = pd.DataFrame(np_scaled)\n",
    "\n",
    "for i in range(1, numberOfFeatures+1):\n",
    "    KBest = SelectKBest(chi2, k=i).fit(featureSubset, target) \n",
    "    f = KBest.get_support(1)\n",
    "newDF1 = featureSubset[featureSubset.columns[f]].assign(target = target)\n",
    "\n",
    "columns = features.columns\n",
    "names1 = list(columns[f])\n",
    "\n",
    "names1.append(\"target\")\n",
    "newDF1.columns = names1\n",
    "newDF1.head() #head only prints the top 5"
   ]
  },
  {
   "cell_type": "code",
   "execution_count": 7,
   "id": "e2560670",
   "metadata": {},
   "outputs": [
    {
     "data": {
      "text/html": [
       "<div>\n",
       "<style scoped>\n",
       "    .dataframe tbody tr th:only-of-type {\n",
       "        vertical-align: middle;\n",
       "    }\n",
       "\n",
       "    .dataframe tbody tr th {\n",
       "        vertical-align: top;\n",
       "    }\n",
       "\n",
       "    .dataframe thead th {\n",
       "        text-align: right;\n",
       "    }\n",
       "</style>\n",
       "<table border=\"1\" class=\"dataframe\">\n",
       "  <thead>\n",
       "    <tr style=\"text-align: right;\">\n",
       "      <th></th>\n",
       "      <th>fur</th>\n",
       "      <th>ringer</th>\n",
       "      <th>roam</th>\n",
       "      <th>scan</th>\n",
       "      <th>snowed</th>\n",
       "      <th>taco</th>\n",
       "      <th>tazo</th>\n",
       "      <th>upiact</th>\n",
       "      <th>wallet</th>\n",
       "      <th>wit</th>\n",
       "      <th>target</th>\n",
       "    </tr>\n",
       "  </thead>\n",
       "  <tbody>\n",
       "    <tr>\n",
       "      <th>0</th>\n",
       "      <td>0.0</td>\n",
       "      <td>0.0</td>\n",
       "      <td>0.0</td>\n",
       "      <td>0.0</td>\n",
       "      <td>0.0</td>\n",
       "      <td>0.0</td>\n",
       "      <td>0.0</td>\n",
       "      <td>0.0</td>\n",
       "      <td>0.0</td>\n",
       "      <td>0.0</td>\n",
       "      <td>0</td>\n",
       "    </tr>\n",
       "    <tr>\n",
       "      <th>1</th>\n",
       "      <td>0.0</td>\n",
       "      <td>0.0</td>\n",
       "      <td>0.0</td>\n",
       "      <td>0.0</td>\n",
       "      <td>0.0</td>\n",
       "      <td>0.0</td>\n",
       "      <td>0.0</td>\n",
       "      <td>0.0</td>\n",
       "      <td>0.0</td>\n",
       "      <td>0.0</td>\n",
       "      <td>1</td>\n",
       "    </tr>\n",
       "    <tr>\n",
       "      <th>2</th>\n",
       "      <td>0.0</td>\n",
       "      <td>0.0</td>\n",
       "      <td>0.0</td>\n",
       "      <td>0.0</td>\n",
       "      <td>0.0</td>\n",
       "      <td>0.0</td>\n",
       "      <td>0.0</td>\n",
       "      <td>0.0</td>\n",
       "      <td>0.0</td>\n",
       "      <td>0.0</td>\n",
       "      <td>0</td>\n",
       "    </tr>\n",
       "    <tr>\n",
       "      <th>3</th>\n",
       "      <td>0.0</td>\n",
       "      <td>0.0</td>\n",
       "      <td>0.0</td>\n",
       "      <td>0.0</td>\n",
       "      <td>0.0</td>\n",
       "      <td>0.0</td>\n",
       "      <td>0.0</td>\n",
       "      <td>0.0</td>\n",
       "      <td>0.0</td>\n",
       "      <td>0.0</td>\n",
       "      <td>0</td>\n",
       "    </tr>\n",
       "    <tr>\n",
       "      <th>4</th>\n",
       "      <td>0.0</td>\n",
       "      <td>0.0</td>\n",
       "      <td>0.0</td>\n",
       "      <td>0.0</td>\n",
       "      <td>0.0</td>\n",
       "      <td>0.0</td>\n",
       "      <td>0.0</td>\n",
       "      <td>0.0</td>\n",
       "      <td>0.0</td>\n",
       "      <td>0.0</td>\n",
       "      <td>0</td>\n",
       "    </tr>\n",
       "  </tbody>\n",
       "</table>\n",
       "</div>"
      ],
      "text/plain": [
       "   fur  ringer  roam  scan  snowed  taco  tazo  upiact  wallet  wit  target\n",
       "0  0.0     0.0   0.0   0.0     0.0   0.0   0.0     0.0     0.0  0.0       0\n",
       "1  0.0     0.0   0.0   0.0     0.0   0.0   0.0     0.0     0.0  0.0       1\n",
       "2  0.0     0.0   0.0   0.0     0.0   0.0   0.0     0.0     0.0  0.0       0\n",
       "3  0.0     0.0   0.0   0.0     0.0   0.0   0.0     0.0     0.0  0.0       0\n",
       "4  0.0     0.0   0.0   0.0     0.0   0.0   0.0     0.0     0.0  0.0       0"
      ]
     },
     "execution_count": 7,
     "metadata": {},
     "output_type": "execute_result"
    }
   ],
   "source": [
    "#appends the BOW dataset for the target features\n",
    "data = df2[:]\n",
    "\n",
    "data[data.columns[1]] = np.where(data[data.columns[1]] >= split, 1, 0)\n",
    "features = data[data.columns[2:]]\n",
    "target = data[data.columns[1]]\n",
    "min_max_scaler = preprocessing.MinMaxScaler()                   #NEED TO SCALE BEFORE FEATURE SELECTION!\n",
    "np_scaled = min_max_scaler.fit_transform(features)\n",
    "featureSubset = pd.DataFrame(np_scaled)\n",
    "\n",
    "for i in range(1, numberOfFeatures+1):\n",
    "    KBest = SelectKBest(chi2, k=i).fit(featureSubset, target) \n",
    "    f = KBest.get_support(1)\n",
    "newDF2 = featureSubset[featureSubset.columns[f]].assign(target = target)\n",
    "\n",
    "columns = features.columns\n",
    "names2 = list(columns[f])\n",
    "\n",
    "names2.append(\"target\")\n",
    "newDF2.columns = names2\n",
    "newDF2.head() #head only prints the top 5"
   ]
  },
  {
   "cell_type": "markdown",
   "id": "2bc17876",
   "metadata": {},
   "source": [
    "For each dataframe, which two features are most important at split 5, split 15, split 20? Do these features make sense to you?\n",
    "df1 = at 5 - government and law, at 15 - pet and leader, at 20 - indepence and torment\n",
    "df2 = at 5 - yikes and zerodha, at 15 - meat and pet, at 20 - fur and wit \n",
    "Yes some of these do make sense when testing for aspects of depression seeing the messae of something like torment makes sense\n",
    "Pick a split to proceed with. Increase the number of features to 10. "
   ]
  },
  {
   "cell_type": "code",
   "execution_count": 8,
   "id": "1b937f59",
   "metadata": {},
   "outputs": [
    {
     "data": {
      "image/png": "[encoded data removed]",
      "text/plain": [
       "<Figure size 360x360 with 1 Axes>"
      ]
     },
     "metadata": {
      "needs_background": "light"
     },
     "output_type": "display_data"
    }
   ],
   "source": [
    "#sets the chi squared table for the featuresdefualt dataset\n",
    "f1 = newDF1[newDF1.target == 1] #1 is depressed\n",
    "f0 = newDF1[newDF1.target == 0] #0 is not depressed\n",
    "\n",
    "array1 = []\n",
    "for name in names1:\n",
    "    namelist = []\n",
    "    for i in range(0, f1.shape[0]):\n",
    "        namelist.append(name)\n",
    "    array1.append(namelist)\n",
    "    \n",
    "array0 = []\n",
    "for name in names1:\n",
    "    namelist = []\n",
    "    for i in range(0, f0.shape[0]):\n",
    "        namelist.append(name)\n",
    "    array0.append(namelist)\n",
    "    \n",
    "plt.figure(figsize = (5,5))\n",
    "for i in range(0, len(names1[:-1])):  #change these numbers to add or remove features\n",
    "    plt.scatter(f0[names1[i]], array0[i], color = 'b', alpha = 0.5, label = \"Not Depressed\", marker = 's')\n",
    "\n",
    "    plt.scatter(f1[names1[i]], array1[i], color = 'r', alpha = 0.5, label = \"Depressed\", marker = '^')\n",
    "    #plt.scatter(array0[i], f0[names[i]], color = 'b', alpha = 0.5, label = \"Not Depressed\", marker = 's')\n",
    "    if i == 0:\n",
    "        plt.legend(loc='lower right')\n",
    "#plt.xticks(names[:-1], rotation='vertical')\n",
    "plt.ylabel(\"Feature\")\n",
    "plt.xlabel(\"Normalized Value\")\n",
    "plt.title(\"Chi-squared Selected Features for featuresDefault\")\n",
    "plt.show()\n",
    "plt.close()"
   ]
  },
  {
   "cell_type": "code",
   "execution_count": 9,
   "id": "e01ec970",
   "metadata": {},
   "outputs": [
    {
     "data": {
      "image/png": "[encoded data removed]",
      "text/plain": [
       "<Figure size 360x360 with 1 Axes>"
      ]
     },
     "metadata": {
      "needs_background": "light"
     },
     "output_type": "display_data"
    }
   ],
   "source": [
    "#sets the chi squared table for the BOW dataset\n",
    "f1 = newDF2[newDF2.target == 1] #1 is depressed\n",
    "f0 = newDF2[newDF2.target == 0] #0 is not depressed\n",
    "\n",
    "array1 = []\n",
    "for name in names2:\n",
    "    namelist = []\n",
    "    for i in range(0, f1.shape[0]):\n",
    "        namelist.append(name)\n",
    "    array1.append(namelist)\n",
    "    \n",
    "array0 = []\n",
    "for name in names2:\n",
    "    namelist = []\n",
    "    for i in range(0, f0.shape[0]):\n",
    "        namelist.append(name)\n",
    "    array0.append(namelist)\n",
    "    \n",
    "plt.figure(figsize = (5,5))\n",
    "for i in range(0, len(names2[:-1])):  #change these numbers to add or remove features\n",
    "    plt.scatter(f0[names2[i]], array0[i], color = 'b', alpha = 0.5, label = \"Not Depressed\", marker = 's')\n",
    "\n",
    "    plt.scatter(f1[names2[i]], array1[i], color = 'r', alpha = 0.5, label = \"Depressed\", marker = '^')\n",
    "    #plt.scatter(array0[i], f0[names[i]], color = 'b', alpha = 0.5, label = \"Not Depressed\", marker = 's')\n",
    "    if i == 0:\n",
    "        plt.legend(loc='lower right')\n",
    "#plt.xticks(names[:-1], rotation='vertical')\n",
    "plt.ylabel(\"Feature\")\n",
    "plt.xlabel(\"Normalized Value\")\n",
    "plt.title(\"Chi-squared Selected Features for BOW\")\n",
    "plt.show()\n",
    "plt.close()"
   ]
  },
  {
   "cell_type": "markdown",
   "id": "ca2266d2",
   "metadata": {},
   "source": [
    "Complete the plot titles in the above code. Compare the plots.\n",
    "\n",
    "In addition, based on the plots:\n",
    "* Which features do you visually think will be most useful for classification? (explain your answer)\n",
    "The features that I believe will be visually most useful for the first plot are ridicule, suffering, and horror, because they have a very high population of uses showing that these would best indicate weather or not the respondents are depressed.\n",
    "* Are these the same features as the two with the highest Chi-squared statistic?\n",
    "No\n",
    "* Which set of features do you think will be most useful for classification? (explain your answer)\n",
    "I belive that the second set of features will be the most useful because they just show whether or not the repsondents are depressed based on whether they used the words or not, as well as the use of suffering, ridicule, and horror"
   ]
  },
  {
   "cell_type": "code",
   "execution_count": 10,
   "id": "ad3233a0",
   "metadata": {},
   "outputs": [
    {
     "name": "stdout",
     "output_type": "stream",
     "text": [
      "0.15789473684210525\n",
      "114\n"
     ]
    }
   ],
   "source": [
    "#sets the split info for the datasets \n",
    "d10 = []\n",
    "for i in range(0, df1.shape[0]):\n",
    "    if int(df1.phq9[i]) >= split:\n",
    "        d10.append(1)\n",
    "    else:\n",
    "        d10.append(0)\n",
    "df1[\"phq9\"] = d10\n",
    "df2[\"phq9\"] = d10\n",
    "\n",
    "#checking values\n",
    "print(sum(d10)/len(d10))\n",
    "print(len(d10))"
   ]
  },
  {
   "cell_type": "markdown",
   "id": "3ec2f1f0",
   "metadata": {},
   "source": [
    "## Machine learning code with comments added for you"
   ]
  },
  {
   "cell_type": "code",
   "execution_count": 11,
   "id": "b44fa327",
   "metadata": {},
   "outputs": [],
   "source": [
    "#reading about python def https://www.w3schools.com/python/ref_keyword_def.asp\n",
    "#sets the info for the calculation of the confusion matrix\n",
    "def get_ba(x,y,z,q):\n",
    "    #fit model and make predictions\n",
    "    clf.fit(x, list(y))\n",
    "    y_pred = clf.predict(z)\n",
    "\n",
    "    #evaluate model - testing\n",
    "    conf_mat = confusion_matrix(list(q), y_pred)\n",
    "    TN = conf_mat[0][0]\n",
    "    TP = conf_mat[1][1]\n",
    "    FP = conf_mat[0][1]\n",
    "    FN = conf_mat[1][0]\n",
    "    sens = TP/(TP+FN)\n",
    "    spec = TN/(TN+FP)\n",
    "    ba = (sens + spec)/2\n",
    "    return ba"
   ]
  },
  {
   "cell_type": "code",
   "execution_count": 18,
   "id": "9dc0adfe",
   "metadata": {},
   "outputs": [
    {
     "ename": "ValueError",
     "evalue": "The least populated class in y has only 1 member, which is too few. The minimum number of groups for any class cannot be less than 2.",
     "output_type": "error",
     "traceback": [
      "\u001b[1;31m---------------------------------------------------------------------------\u001b[0m",
      "\u001b[1;31mValueError\u001b[0m                                Traceback (most recent call last)",
      "\u001b[1;32m~\\AppData\\Local\\Temp/ipykernel_34776/14228717.py\u001b[0m in \u001b[0;36m<module>\u001b[1;34m\u001b[0m\n\u001b[0;32m     16\u001b[0m \u001b[1;33m\u001b[0m\u001b[0m\n\u001b[0;32m     17\u001b[0m             \u001b[1;31m#create train/test sets\u001b[0m\u001b[1;33m\u001b[0m\u001b[1;33m\u001b[0m\u001b[1;33m\u001b[0m\u001b[0m\n\u001b[1;32m---> 18\u001b[1;33m             \u001b[0mdf_train\u001b[0m\u001b[1;33m,\u001b[0m \u001b[0mdf_test\u001b[0m \u001b[1;33m=\u001b[0m \u001b[0mtrain_test_split\u001b[0m\u001b[1;33m(\u001b[0m\u001b[0mdata\u001b[0m\u001b[1;33m,\u001b[0m \u001b[0mtest_size\u001b[0m\u001b[1;33m=\u001b[0m\u001b[1;36m0.3\u001b[0m\u001b[1;33m,\u001b[0m \u001b[0mstratify\u001b[0m\u001b[1;33m=\u001b[0m\u001b[0mdata\u001b[0m\u001b[1;33m[\u001b[0m\u001b[1;33m[\u001b[0m\u001b[1;34m\"phq9\"\u001b[0m\u001b[1;33m]\u001b[0m\u001b[1;33m]\u001b[0m\u001b[1;33m,\u001b[0m \u001b[0mrandom_state\u001b[0m \u001b[1;33m=\u001b[0m \u001b[0mr\u001b[0m\u001b[1;33m)\u001b[0m\u001b[1;33m\u001b[0m\u001b[1;33m\u001b[0m\u001b[0m\n\u001b[0m\u001b[0;32m     19\u001b[0m \u001b[1;33m\u001b[0m\u001b[0m\n\u001b[0;32m     20\u001b[0m             \u001b[1;31m#save target variables\u001b[0m\u001b[1;33m\u001b[0m\u001b[1;33m\u001b[0m\u001b[1;33m\u001b[0m\u001b[0m\n",
      "\u001b[1;32m~\\anaconda3\\lib\\site-packages\\sklearn\\model_selection\\_split.py\u001b[0m in \u001b[0;36mtrain_test_split\u001b[1;34m(test_size, train_size, random_state, shuffle, stratify, *arrays)\u001b[0m\n\u001b[0;32m   2439\u001b[0m         \u001b[0mcv\u001b[0m \u001b[1;33m=\u001b[0m \u001b[0mCVClass\u001b[0m\u001b[1;33m(\u001b[0m\u001b[0mtest_size\u001b[0m\u001b[1;33m=\u001b[0m\u001b[0mn_test\u001b[0m\u001b[1;33m,\u001b[0m \u001b[0mtrain_size\u001b[0m\u001b[1;33m=\u001b[0m\u001b[0mn_train\u001b[0m\u001b[1;33m,\u001b[0m \u001b[0mrandom_state\u001b[0m\u001b[1;33m=\u001b[0m\u001b[0mrandom_state\u001b[0m\u001b[1;33m)\u001b[0m\u001b[1;33m\u001b[0m\u001b[1;33m\u001b[0m\u001b[0m\n\u001b[0;32m   2440\u001b[0m \u001b[1;33m\u001b[0m\u001b[0m\n\u001b[1;32m-> 2441\u001b[1;33m         \u001b[0mtrain\u001b[0m\u001b[1;33m,\u001b[0m \u001b[0mtest\u001b[0m \u001b[1;33m=\u001b[0m \u001b[0mnext\u001b[0m\u001b[1;33m(\u001b[0m\u001b[0mcv\u001b[0m\u001b[1;33m.\u001b[0m\u001b[0msplit\u001b[0m\u001b[1;33m(\u001b[0m\u001b[0mX\u001b[0m\u001b[1;33m=\u001b[0m\u001b[0marrays\u001b[0m\u001b[1;33m[\u001b[0m\u001b[1;36m0\u001b[0m\u001b[1;33m]\u001b[0m\u001b[1;33m,\u001b[0m \u001b[0my\u001b[0m\u001b[1;33m=\u001b[0m\u001b[0mstratify\u001b[0m\u001b[1;33m)\u001b[0m\u001b[1;33m)\u001b[0m\u001b[1;33m\u001b[0m\u001b[1;33m\u001b[0m\u001b[0m\n\u001b[0m\u001b[0;32m   2442\u001b[0m \u001b[1;33m\u001b[0m\u001b[0m\n\u001b[0;32m   2443\u001b[0m     return list(\n",
      "\u001b[1;32m~\\anaconda3\\lib\\site-packages\\sklearn\\model_selection\\_split.py\u001b[0m in \u001b[0;36msplit\u001b[1;34m(self, X, y, groups)\u001b[0m\n\u001b[0;32m   1598\u001b[0m         \"\"\"\n\u001b[0;32m   1599\u001b[0m         \u001b[0mX\u001b[0m\u001b[1;33m,\u001b[0m \u001b[0my\u001b[0m\u001b[1;33m,\u001b[0m \u001b[0mgroups\u001b[0m \u001b[1;33m=\u001b[0m \u001b[0mindexable\u001b[0m\u001b[1;33m(\u001b[0m\u001b[0mX\u001b[0m\u001b[1;33m,\u001b[0m \u001b[0my\u001b[0m\u001b[1;33m,\u001b[0m \u001b[0mgroups\u001b[0m\u001b[1;33m)\u001b[0m\u001b[1;33m\u001b[0m\u001b[1;33m\u001b[0m\u001b[0m\n\u001b[1;32m-> 1600\u001b[1;33m         \u001b[1;32mfor\u001b[0m \u001b[0mtrain\u001b[0m\u001b[1;33m,\u001b[0m \u001b[0mtest\u001b[0m \u001b[1;32min\u001b[0m \u001b[0mself\u001b[0m\u001b[1;33m.\u001b[0m\u001b[0m_iter_indices\u001b[0m\u001b[1;33m(\u001b[0m\u001b[0mX\u001b[0m\u001b[1;33m,\u001b[0m \u001b[0my\u001b[0m\u001b[1;33m,\u001b[0m \u001b[0mgroups\u001b[0m\u001b[1;33m)\u001b[0m\u001b[1;33m:\u001b[0m\u001b[1;33m\u001b[0m\u001b[1;33m\u001b[0m\u001b[0m\n\u001b[0m\u001b[0;32m   1601\u001b[0m             \u001b[1;32myield\u001b[0m \u001b[0mtrain\u001b[0m\u001b[1;33m,\u001b[0m \u001b[0mtest\u001b[0m\u001b[1;33m\u001b[0m\u001b[1;33m\u001b[0m\u001b[0m\n\u001b[0;32m   1602\u001b[0m \u001b[1;33m\u001b[0m\u001b[0m\n",
      "\u001b[1;32m~\\anaconda3\\lib\\site-packages\\sklearn\\model_selection\\_split.py\u001b[0m in \u001b[0;36m_iter_indices\u001b[1;34m(self, X, y, groups)\u001b[0m\n\u001b[0;32m   1938\u001b[0m         \u001b[0mclass_counts\u001b[0m \u001b[1;33m=\u001b[0m \u001b[0mnp\u001b[0m\u001b[1;33m.\u001b[0m\u001b[0mbincount\u001b[0m\u001b[1;33m(\u001b[0m\u001b[0my_indices\u001b[0m\u001b[1;33m)\u001b[0m\u001b[1;33m\u001b[0m\u001b[1;33m\u001b[0m\u001b[0m\n\u001b[0;32m   1939\u001b[0m         \u001b[1;32mif\u001b[0m \u001b[0mnp\u001b[0m\u001b[1;33m.\u001b[0m\u001b[0mmin\u001b[0m\u001b[1;33m(\u001b[0m\u001b[0mclass_counts\u001b[0m\u001b[1;33m)\u001b[0m \u001b[1;33m<\u001b[0m \u001b[1;36m2\u001b[0m\u001b[1;33m:\u001b[0m\u001b[1;33m\u001b[0m\u001b[1;33m\u001b[0m\u001b[0m\n\u001b[1;32m-> 1940\u001b[1;33m             raise ValueError(\n\u001b[0m\u001b[0;32m   1941\u001b[0m                 \u001b[1;34m\"The least populated class in y has only 1\"\u001b[0m\u001b[1;33m\u001b[0m\u001b[1;33m\u001b[0m\u001b[0m\n\u001b[0;32m   1942\u001b[0m                 \u001b[1;34m\" member, which is too few. The minimum\"\u001b[0m\u001b[1;33m\u001b[0m\u001b[1;33m\u001b[0m\u001b[0m\n",
      "\u001b[1;31mValueError\u001b[0m: The least populated class in y has only 1 member, which is too few. The minimum number of groups for any class cannot be less than 2."
     ]
    }
   ],
   "source": [
    "#sets the info for the training and testing machine learning\n",
    "modelTypelist = [\"Ada\", \"XGB\", \"RF\", \"dt\", \"kNN\", \"LR\"]\n",
    "dfs = [df1, df2]\n",
    "train_ba_depression = []\n",
    "test_ba_depression = []\n",
    "rlist = []\n",
    "mlist = []\n",
    "datalist = []\n",
    "\n",
    "for d in range(0, len(dfs)):\n",
    "    data = dfs[d]\n",
    "    for modelType in modelTypelist: \n",
    "        for r in range(50, 75):\n",
    "            datalist.append(d)\n",
    "            rlist.append(r)\n",
    "            mlist.append(modelType)\n",
    "\n",
    "            #create train/test sets\n",
    "            df_train, df_test = train_test_split(data, test_size=0.3, stratify=data[[\"phq9\"]], random_state = r)\n",
    "\n",
    "            #save target variables\n",
    "            train_targets = df_train.loc[:,[\"phq9\"]]\n",
    "            test_targets = df_test.loc[:,[\"phq9\"]]\n",
    "\n",
    "            #drop non-features: id and targets\n",
    "            trainContent = df_train.drop(columns = [\"id\", \"phq9\"])\n",
    "            testContent = df_test.drop(columns = [\"id\", \"phq9\"])\n",
    "\n",
    "            #normalize before pca\n",
    "            min_max_scaler = preprocessing.MinMaxScaler()  \n",
    "            np_scaled = min_max_scaler.fit_transform(trainContent)\n",
    "            featureSubset = pd.DataFrame(np_scaled)\n",
    "            np_scaled2 =  min_max_scaler.transform(testContent)\n",
    "            testSubset = pd.DataFrame(np_scaled2)\n",
    "\n",
    "            #feature selection\n",
    "            chisetup = SelectKBest(chi2, k=numberOfFeatures)\n",
    "            chisetup = chisetup.fit(featureSubset, train_targets)\n",
    "            featureSubset2 = chisetup.transform(featureSubset)\n",
    "            featureSubset2 = pd.DataFrame(featureSubset2)\n",
    "            testSubsetChi = chisetup.transform(testSubset)\n",
    "            testSubsetChi = pd.DataFrame(testSubsetChi)\n",
    "            \n",
    "            #principal component analysis\n",
    "            #pca = PCA(n_components=numberOfFeatures)\n",
    "            #pca = pca.fit(featureSubset)\n",
    "            #X_pca = pca.transform(featureSubset)\n",
    "            #pcaDF = pd.DataFrame(X_pca)\n",
    "            #testSubset2 = pca.transform(testSubset)\n",
    "            #pca_test = pd.DataFrame(testSubset2)\n",
    "\n",
    "            #upsampling to balance classes\n",
    "            train_targets = train_targets.reset_index(drop = True)\n",
    "            DF_labels = pd.concat([featureSubset2,train_targets], axis = 1) #reattach labels\n",
    "\n",
    "            phq0 = DF_labels[DF_labels.phq9 == 0]\n",
    "            phq1 = DF_labels[DF_labels.phq9 == 1]\n",
    "            if phq0.shape[0]>phq1.shape[0]:\n",
    "                phq_upsampled = resample(phq1, n_samples=(phq0.shape[0]-phq1.shape[0]), random_state=50)\n",
    "                phq_up = pd.concat([DF_labels, phq_upsampled])\n",
    "            elif phq0.shape[0]<phq1.shape[0]:\n",
    "                phq_upsampled = resample(phq0, n_samples=(phq1.shape[0]-phq0.shape[0]), random_state=50)\n",
    "                phq_up = pd.concat([DF_labels, phq_upsampled])\n",
    "\n",
    "            #remove upsampled labels\n",
    "            phq_targets = phq_up.loc[:,[\"phq9\"]]\n",
    "            phq_features = phq_up.drop(columns = [\"phq9\"])\n",
    "\n",
    "            #select modeltype\n",
    "            if modelType == \"Ada\":\n",
    "                clf = AdaBoostClassifier(random_state=r)\n",
    "            elif modelType == \"XGB\":\n",
    "                clf = xgb.XGBClassifier(max_depth=3, random_state=r)\n",
    "            elif modelType == \"RF\":\n",
    "                clf = RandomForestClassifier(max_depth=3, random_state=r)\n",
    "            elif modelType == \"dt\":\n",
    "                clf = tree.DecisionTreeClassifier(random_state = r, max_depth=3)\n",
    "            elif modelType == \"kNN\":\n",
    "                 clf = KNeighborsClassifier()\n",
    "            elif modelType == \"LR\":\n",
    "                clf = LogisticRegression(random_state=r)\n",
    "\n",
    "            #train evaluate models\n",
    "            ba = get_ba(phq_features, phq_targets[\"phq9\"], testSubsetChi, test_targets[\"phq9\"])\n",
    "            test_ba_depression.append(ba)\n",
    "\n",
    "            ba = get_ba(phq_features, phq_targets[\"phq9\"], phq_features, phq_targets[\"phq9\"])\n",
    "            train_ba_depression.append(ba)\n",
    "                \n",
    "resultsDF = pd.DataFrame()\n",
    "resultsDF[\"train_ba\"] = train_ba_depression\n",
    "resultsDF[\"test_ba\"] = test_ba_depression\n",
    "resultsDF[\"random\"] = rlist\n",
    "resultsDF[\"model\"] = mlist\n",
    "resultsDF[\"data\"] = datalist\n",
    "resultsDF.head()"
   ]
  },
  {
   "cell_type": "markdown",
   "id": "f89cd16b",
   "metadata": {},
   "source": [
    "## Plotting"
   ]
  },
  {
   "cell_type": "code",
   "execution_count": 22,
   "id": "7be5d07a",
   "metadata": {
    "scrolled": true
   },
   "outputs": [
    {
     "data": {
      "image/png": "[encoded data removed]",
      "text/plain": [
       "<Figure size 432x288 with 1 Axes>"
      ]
     },
     "metadata": {
      "needs_background": "light"
     },
     "output_type": "display_data"
    },
    {
     "name": "stdout",
     "output_type": "stream",
     "text": [
      "0.5 +- 0.05\n"
     ]
    },
    {
     "data": {
      "image/png": "[encoded data removed]",
      "text/plain": [
       "<Figure size 432x288 with 1 Axes>"
      ]
     },
     "metadata": {
      "needs_background": "light"
     },
     "output_type": "display_data"
    },
    {
     "name": "stdout",
     "output_type": "stream",
     "text": [
      "0.47 +- 0.04\n"
     ]
    },
    {
     "data": {
      "image/png": "[encoded data removed]",
      "text/plain": [
       "<Figure size 432x288 with 1 Axes>"
      ]
     },
     "metadata": {
      "needs_background": "light"
     },
     "output_type": "display_data"
    },
    {
     "name": "stdout",
     "output_type": "stream",
     "text": [
      "0.45 +- 0.05\n"
     ]
    },
    {
     "data": {
      "image/png": "[encoded data removed]",
      "text/plain": [
       "<Figure size 432x288 with 1 Axes>"
      ]
     },
     "metadata": {
      "needs_background": "light"
     },
     "output_type": "display_data"
    },
    {
     "name": "stdout",
     "output_type": "stream",
     "text": [
      "0.47 +- 0.06\n"
     ]
    },
    {
     "data": {
      "image/png": "[encoded data removed]",
      "text/plain": [
       "<Figure size 432x288 with 1 Axes>"
      ]
     },
     "metadata": {
      "needs_background": "light"
     },
     "output_type": "display_data"
    },
    {
     "name": "stdout",
     "output_type": "stream",
     "text": [
      "0.48 +- 0.08\n"
     ]
    },
    {
     "data": {
      "image/png": "[encoded data removed]",
      "text/plain": [
       "<Figure size 432x288 with 1 Axes>"
      ]
     },
     "metadata": {
      "needs_background": "light"
     },
     "output_type": "display_data"
    },
    {
     "name": "stdout",
     "output_type": "stream",
     "text": [
      "0.5 +- 0.1\n"
     ]
    }
   ],
   "source": [
    "#sets the plotting info for the models on dataset one\n",
    "for modelType in modelTypelist: \n",
    "    tempDF = resultsDF[(resultsDF.model == modelType) & (resultsDF.data == 0)]\n",
    "    tempDF.boxplot(['train_ba','test_ba'])\n",
    "    plt.title(modelType)\n",
    "    plt.ylim(0, 1.05)\n",
    "    plt.show()\n",
    "    plt.close()\n",
    "    print(str(round(np.mean(tempDF[\"test_ba\"]),2)) + \" +- \" + str(round(np.std(tempDF[\"test_ba\"]),2)))"
   ]
  },
  {
   "cell_type": "code",
   "execution_count": 14,
   "id": "05d973ba",
   "metadata": {
    "scrolled": true
   },
   "outputs": [
    {
     "data": {
      "image/png": "[encoded data removed]",
      "text/plain": [
       "<Figure size 432x288 with 1 Axes>"
      ]
     },
     "metadata": {
      "needs_background": "light"
     },
     "output_type": "display_data"
    },
    {
     "name": "stdout",
     "output_type": "stream",
     "text": [
      "0.51 +- 0.06\n"
     ]
    },
    {
     "data": {
      "image/png": "[encoded data removed]",
      "text/plain": [
       "<Figure size 432x288 with 1 Axes>"
      ]
     },
     "metadata": {
      "needs_background": "light"
     },
     "output_type": "display_data"
    },
    {
     "name": "stdout",
     "output_type": "stream",
     "text": [
      "0.51 +- 0.07\n"
     ]
    },
    {
     "data": {
      "image/png": "[encoded data removed]",
      "text/plain": [
       "<Figure size 432x288 with 1 Axes>"
      ]
     },
     "metadata": {
      "needs_background": "light"
     },
     "output_type": "display_data"
    },
    {
     "name": "stdout",
     "output_type": "stream",
     "text": [
      "0.52 +- 0.07\n"
     ]
    },
    {
     "data": {
      "image/png": "[encoded data removed]",
      "text/plain": [
       "<Figure size 432x288 with 1 Axes>"
      ]
     },
     "metadata": {
      "needs_background": "light"
     },
     "output_type": "display_data"
    },
    {
     "name": "stdout",
     "output_type": "stream",
     "text": [
      "0.5 +- 0.04\n"
     ]
    },
    {
     "data": {
      "image/png": "[encoded data removed]",
      "text/plain": [
       "<Figure size 432x288 with 1 Axes>"
      ]
     },
     "metadata": {
      "needs_background": "light"
     },
     "output_type": "display_data"
    },
    {
     "name": "stdout",
     "output_type": "stream",
     "text": [
      "0.49 +- 0.04\n"
     ]
    },
    {
     "data": {
      "image/png": "[encoded data removed]",
      "text/plain": [
       "<Figure size 432x288 with 1 Axes>"
      ]
     },
     "metadata": {
      "needs_background": "light"
     },
     "output_type": "display_data"
    },
    {
     "name": "stdout",
     "output_type": "stream",
     "text": [
      "0.52 +- 0.07\n"
     ]
    }
   ],
   "source": [
    "#sets the plotting info for the models on dataset two\n",
    "for modelType in modelTypelist: \n",
    "    tempDF = resultsDF[(resultsDF.model == modelType) & (resultsDF.data == 1)]\n",
    "    tempDF.boxplot(['train_ba','test_ba'])\n",
    "    plt.title(modelType)\n",
    "    plt.ylim(0, 1.05)\n",
    "    plt.show()\n",
    "    plt.close()\n",
    "    print(str(round(np.mean(tempDF[\"test_ba\"]),2)) + \" +- \" + str(round(np.std(tempDF[\"test_ba\"]),2)))"
   ]
  },
  {
   "cell_type": "markdown",
   "id": "55fb841f",
   "metadata": {},
   "source": [
    "How do the two sets of boxplots differ?\n",
    "The two sets of boxplots differe in their number of outliers.\n",
    "Which modelTypes are being compared?\n",
    "Ada, XGB, RF, dt, kNN, LR\n",
    "Which dataset and modelType has the highest balanced accuracy? The lowest?\n",
    "The dataset with the highest balance accuracy is the dataset 2 with model type LR and RF with a balanced accuracy of .52, the lowest is the dataset 1 with model type RF with a balanced accuracy of .45\n",
    "Which dataset and modelType has the lowest standard deviation? The highest?\n",
    "The dataset with the highest balance accuracy is the dataset 2 with model type LR and RF with a balanced accuracy of .52, the lowest is the dataset 1 with model type RF with a balanced accuracy of .45\n",
    "Based on the results, which feature set worked best to classify texts with chi-squared feature selection and the selected split?\n",
    "Dataset 2 as most of the models being tested in dataste 1 had a very high range of standard deviations."
   ]
  },
  {
   "cell_type": "markdown",
   "id": "594f5d6f",
   "metadata": {},
   "source": [
    "# Part 2: Regression Models\n",
    "\n"
   ]
  },
  {
   "cell_type": "code",
   "execution_count": 15,
   "id": "07b24a20",
   "metadata": {},
   "outputs": [
    {
     "name": "stdout",
     "output_type": "stream",
     "text": [
      "(114, 199)\n",
      "(114, 6251)\n"
     ]
    }
   ],
   "source": [
    "#reloads the the two datasets \n",
    "df1 = pd.read_csv(\"C:/Users/student/Data Minning/featuresDefault.csv\") \n",
    "df2 = pd.read_csv(\"C:/Users/student/Data Minning/BOW.csv\")\n",
    "print(df1.shape)\n",
    "print(df2.shape)"
   ]
  },
  {
   "cell_type": "markdown",
   "id": "695f89a8",
   "metadata": {},
   "source": [
    "Why did I reload the data?\n",
    "Because if we were to use the data that was being useded it would be utilizing the training and testing data, and it wouldn't have all of the data because we were using a split"
   ]
  },
  {
   "cell_type": "code",
   "execution_count": 24,
   "id": "ef717862",
   "metadata": {},
   "outputs": [
    {
     "name": "stdout",
     "output_type": "stream",
     "text": [
      "[-5.3048419  -6.92173913 -6.25063378 -5.68034128 -5.76332288]\n",
      "[-4.35401873 -7.64524457 -7.55606749 -5.22890026 -4.60678211]\n"
     ]
    }
   ],
   "source": [
    "#sets the decision tree regression for each of the data sets \n",
    "folds = 5\n",
    "\n",
    "dec = DecisionTreeRegressor(max_depth=3)\n",
    "# reg = LinearRegression()\n",
    "print(cross_val_score(dec, df1[df1.columns[2:]],  df1[df1.columns[1]], cv=folds, scoring = 'neg_mean_absolute_error'))\n",
    "#print(cross_val_score(reg, df1[df1.columns[2:]],  df1[df1.columns[1]], cv=folds, scoring = 'neg_mean_absolute_error'))\n",
    "print(cross_val_score(dec, df2[df2.columns[2:]],  df2[df2.columns[1]], cv=folds, scoring = 'neg_mean_absolute_error'))\n",
    "#print(cross_val_score(reg, df2[df2.columns[2:]],  df2[df2.columns[1]], cv=folds, scoring = 'neg_mean_absolute_error'))"
   ]
  },
  {
   "cell_type": "markdown",
   "id": "9901a560",
   "metadata": {},
   "source": [
    "Repeat the above block of code for df2. Then answer the following questions:\n",
    "\n",
    "* For folds = 3, what is the average MAE? (hint, the negative MAE is printed for each fold)\n",
    "the average MAE for df1 is 6.780593, and for df2 is 5.7559479\n",
    "* Which of the four feature set and modelType combinations has the highest average MAE? lowest MAE?\n",
    "\n",
    "* Which of the four featre set and modelType combinations has the most difference of MAE between folds? Least difference? Note, this is an approximation of standard deviation.\n",
    "\n",
    "Increase the number of folds. What do you observe about the average MAE and difference between MAE?\n",
    "The average starts to decrease"
   ]
  },
  {
   "cell_type": "code",
   "execution_count": null,
   "id": "0691724b",
   "metadata": {},
   "outputs": [],
   "source": []
  }
 ],
 "metadata": {
  "kernelspec": {
   "display_name": "Python 3 (ipykernel)",
   "language": "python",
   "name": "python3"
  },
  "language_info": {
   "codemirror_mode": {
    "name": "ipython",
    "version": 3
   },
   "file_extension": ".py",
   "mimetype": "text/x-python",
   "name": "python",
   "nbconvert_exporter": "python",
   "pygments_lexer": "ipython3",
   "version": "3.8.8"
  }
 },
 "nbformat": 4,
 "nbformat_minor": 5
}
